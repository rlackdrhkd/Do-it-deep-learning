{
  "nbformat": 4,
  "nbformat_minor": 0,
  "metadata": {
    "colab": {
      "name": "Do it 딥러닝 6장.ipynb",
      "provenance": [],
      "collapsed_sections": [],
      "authorship_tag": "ABX9TyPSy4wVf+6CeHvZa/NnPWYT",
      "include_colab_link": true
    },
    "kernelspec": {
      "name": "python3",
      "display_name": "Python 3"
    },
    "language_info": {
      "name": "python"
    }
  },
  "cells": [
    {
      "cell_type": "markdown",
      "metadata": {
        "id": "view-in-github",
        "colab_type": "text"
      },
      "source": [
        "<a href=\"https://colab.research.google.com/github/rlackdrhkd/Do-it-deep-learning/blob/main/Do_it_%EB%94%A5%EB%9F%AC%EB%8B%9D_6%EC%9E%A5.ipynb\" target=\"_parent\"><img src=\"https://colab.research.google.com/assets/colab-badge.svg\" alt=\"Open In Colab\"/></a>"
      ]
    },
    {
      "cell_type": "code",
      "execution_count": 50,
      "metadata": {
        "id": "VoMfIKIJNnzC"
      },
      "outputs": [],
      "source": [
        "import numpy as np\n",
        "import matplotlib.pyplot as plt"
      ]
    },
    {
      "cell_type": "code",
      "source": [
        "from sklearn.datasets import load_breast_cancer\n",
        "from sklearn.model_selection import train_test_split\n",
        "\n",
        "cancer = load_breast_cancer()\n",
        "x=cancer.data\n",
        "y=cancer.target\n",
        "x_train_all, x_test, y_train_all, y_test = train_test_split(x,y,stratify=y,\n",
        "                                                            test_size=0.2,random_state=42)\n",
        "x_train, x_val, y_train, y_val = train_test_split(x_train_all, y_train_all,\n",
        "                                                  stratify=y_train_all, test_size=0.2, random_state=42)"
      ],
      "metadata": {
        "id": "tCdAFkZ1Qh76"
      },
      "execution_count": 51,
      "outputs": []
    },
    {
      "cell_type": "code",
      "source": [
        "print(x_train.shape,x_val.shape)"
      ],
      "metadata": {
        "colab": {
          "base_uri": "https://localhost:8080/"
        },
        "id": "uW3PSoVoR6wn",
        "outputId": "72276cd4-d7c0-47c9-9202-95c3d0caa9a5"
      },
      "execution_count": 52,
      "outputs": [
        {
          "output_type": "stream",
          "name": "stdout",
          "text": [
            "(364, 30) (91, 30)\n"
          ]
        }
      ]
    },
    {
      "cell_type": "code",
      "source": [
        "class SingleLayer:\n",
        "\n",
        "  def __init__(self, learning_rate=0.1, l1=0, l2=0): #Add learing rate parameter and variable to record weight\n",
        "    self.w = None\n",
        "    self.b = None\n",
        "    self.losses = []\n",
        "    self.val_losses= []\n",
        "    self.w_history = []\n",
        "    self.lr = learning_rate\n",
        "    self.l1 = l1\n",
        "    self.l2 = l2\n",
        "\n",
        "  def forpass(self,x):  # Calculation Straight line\n",
        "    z = np.dot(x,self.w) + self.b\n",
        "    return z\n",
        "\n",
        "  def backprop(self, x, err):\n",
        "    m = len(x)\n",
        "    w_grad = np.dot(x.T, err) / m      # Calculation gradient about weight\n",
        "    b_grad = np.sum(err) / m      # Calculation gradient about intercept    \n",
        "    return w_grad, b_grad\n",
        "  \n",
        "  def add_bias(self, x): #Adds a column vector filled with 1 at the beginning of the matrix\n",
        "    return np.c_[np.ones((x.shape[0],1)),x]\n",
        "\n",
        "  def activation(self,z): #Calculation sigmoid\n",
        "    a = 1 / (1+ np.exp(-z)) #Perform forpass calculation\n",
        "    return a                 #Apply step function\n",
        "\n",
        "  def update_val_loss(self,x_val,y_val):   \n",
        "    z = self.forpass(x_val)                   #Perform forpass calculation                       \n",
        "    a = self.activation(z)                    #Apply step function                      \n",
        "    z = np.clip(a, 1e-10, 1-1e-10)\n",
        "    #Add list pluses reg_loss and val_loss\n",
        "    val_loss = np.sum(-(y_val*np.log(a) + (1-y_val)*np.log(1-a)))\n",
        "    self.val_losses.append((val_loss + self.reg_loss()) / len(y_val))\n",
        "\n",
        "  def fit(self,x,y,epochs=100,x_val=None,y_val=None):      #Record weight and controll update volume\n",
        "    y = y.reshape(-1,1)                        #Change target to column vector\n",
        "    y_val = y_val.reshape(-1,1)                #Change validation target to column vector\n",
        "    m = len(x)                                 #Count and Save Sample\n",
        "    self.w = np.ones((x.shape[1],1))           #reset weight\n",
        "    self.b = 0                                 #reset intercept\n",
        "    self.w_history.append(self.w.copy())       #record weight\n",
        "    #repeat as many as epochs\n",
        "    for i in range(epochs):\n",
        "      z = self.forpass(x)                      #perfrom forpass Calculation\n",
        "      a = self.activation(z)                   #Apply activation function\n",
        "      err = -(y-a)                             #Calculate error\n",
        "      #Calculation gradient to backprop err\n",
        "      w_grad, b_grad = self.backprop(x,err)\n",
        "      #Plus differential value of penalty function to gradient\n",
        "      w_grad += (self.l1*np.sign(self.w) + self.l2 * self.w) / m\n",
        "      #Update weight and intercept\n",
        "      self.w -= self.lr * w_grad\n",
        "      self.b -= self.lr * b_grad\n",
        "      self.w_history.append(self.w.copy())\n",
        "      a = np.clip(a, 1e-10, 1-1e-10)\n",
        "      loss = np.sum(-(y*np.log(a) + (1-y)*np.log(1-a)))\n",
        "      self.losses.append((loss + self.reg_loss()) / m)\n",
        "      #Calculate loss about validation set\n",
        "      self.update_val_loss(x_val,y_val)\n",
        "\n",
        "  def predict(self,x):\n",
        "    z = self.forpass(x) #forpass calculation\n",
        "    return z > 0               #apply stair function\n",
        "\n",
        "  def score(self,x,y):\n",
        "    #return true rate and compare prediction and column vector\n",
        "    return np.mean(self.predict(x) == y.reshape(-1,1))\n",
        "\n",
        "  def reg_loss(self):\n",
        "    return self.l1* np.sum(np.abs(self.w)) + self.l2 / 2 * np.sum(self.w**2)"
      ],
      "metadata": {
        "id": "8xMXQxyLSTLt"
      },
      "execution_count": 53,
      "outputs": []
    },
    {
      "cell_type": "code",
      "source": [
        "import numpy as np\n",
        "import matplotlib.pyplot as plt\n",
        "from sklearn.preprocessing import StandardScaler\n",
        "\n",
        "scaler = StandardScaler()\n",
        "scaler.fit(x_train)\n",
        "x_train_scaled = scaler.transform(x_train)\n",
        "x_val_scaled = scaler.transform(x_val)"
      ],
      "metadata": {
        "id": "xZZPDMrt5F2t"
      },
      "execution_count": 54,
      "outputs": []
    },
    {
      "cell_type": "code",
      "source": [
        "single_layer = SingleLayer(l2=0.01)\n",
        "single_layer.fit(x_train_scaled,y_train,\n",
        "                 x_val=x_val_scaled, y_val=y_val, epochs=10000)\n",
        "single_layer.score(x_val_scaled,y_val)"
      ],
      "metadata": {
        "colab": {
          "base_uri": "https://localhost:8080/"
        },
        "id": "VNGA074h6U0p",
        "outputId": "916cef80-cb91-4fbd-edf5-b9e2df6a519a"
      },
      "execution_count": 55,
      "outputs": [
        {
          "output_type": "stream",
          "name": "stderr",
          "text": [
            "/usr/local/lib/python3.7/dist-packages/ipykernel_launcher.py:35: RuntimeWarning: divide by zero encountered in log\n"
          ]
        },
        {
          "output_type": "execute_result",
          "data": {
            "text/plain": [
              "0.978021978021978"
            ]
          },
          "metadata": {},
          "execution_count": 55
        }
      ]
    },
    {
      "cell_type": "code",
      "source": [
        "plt.ylim(0,0.3)\n",
        "plt.plot(single_layer.losses)\n",
        "plt.plot(single_layer.val_losses)\n",
        "plt.ylabel('loss')\n",
        "plt.xlabel('epoch')\n",
        "plt.legend(['train_loss','val_loss'])\n",
        "plt.show()"
      ],
      "metadata": {
        "colab": {
          "base_uri": "https://localhost:8080/",
          "height": 282
        },
        "id": "F5cr6JNF_g0d",
        "outputId": "4b59251f-8494-488f-9229-d17c060dc8bc"
      },
      "execution_count": 56,
      "outputs": [
        {
          "output_type": "display_data",
          "data": {
            "text/plain": [
              "<Figure size 432x288 with 1 Axes>"
            ],
            "image/png": "[encoded data removed]"
          },
          "metadata": {
            "needs_background": "light"
          }
        }
      ]
    },
    {
      "cell_type": "code",
      "source": [
        "w2 = []\n",
        "w3 = []\n",
        "for w in single_layer.w_history:\n",
        "  w2.append(w[2])\n",
        "  w3.append(w[3])\n",
        "plt.plot(w2,w3)\n",
        "plt.plot(w2[-1],w3[-1],'ro')\n",
        "plt.xlabel('w[2]')\n",
        "plt.ylabel('w[3]')\n",
        "plt.show()"
      ],
      "metadata": {
        "colab": {
          "base_uri": "https://localhost:8080/",
          "height": 278
        },
        "id": "gyGK6vik_2ME",
        "outputId": "0de2729b-8e81-454b-ce0e-b2da0a90ebea"
      },
      "execution_count": 57,
      "outputs": [
        {
          "output_type": "display_data",
          "data": {
            "text/plain": [
              "<Figure size 432x288 with 1 Axes>"
            ],
            "image/png": "[encoded data removed]"
          },
          "metadata": {
            "needs_background": "light"
          }
        }
      ]
    },
    {
      "cell_type": "code",
      "source": [
        "class DualLayer(SingleLayer):\n",
        "\n",
        "  def __init__(self,units=10,learning_rate=0.1,l1=0,l2=0):\n",
        "    self.units = units        #Number of neurons in the hidden layer\n",
        "    self.w1 = None            #weight of the hidden layer\n",
        "    self.b1 = None            #intercept of the hidden layer\n",
        "    self.w2 = None            #weight of the output layer\n",
        "    self.b2 = None            #intercept of the output layer\n",
        "    self.a1 = None            #activation output of the hidden layer\n",
        "    self.losses = []          #train losses\n",
        "    self.val_losses = []      #validation losses\n",
        "    self.lr = learning_rate   #learning rate\n",
        "    self.l1 = l1              #l1 loss hyperparameter\n",
        "    self.l2 = l2              #l2 loss hyperparameter\n",
        "\n",
        "  def forpass(self,x):\n",
        "    z1 = np.dot(x,self.w1) + self.b1         #calculate linear expression of first layer\n",
        "    self.a1 = self.activation(z1)            #Apply activation function\n",
        "    z2 = np.dot(self.a1, self.w2) + self.b2  #calculate linear expressing of second layer\n",
        "    return z2\n",
        "\n",
        "  def backprop(self,x,err):\n",
        "    m = len(x)\n",
        "    w2_grad = np.dot(self.a1.T,err) / m\n",
        "    b2_grad = np.sum(err) / m\n",
        "    err_to_hidden = np.dot(err,self.w2.T) * self.a1 * (1-self.a1)\n",
        "    w1_grad = np.dot(x.T, err_to_hidden) / m\n",
        "    b1_grad = np.sum(err_to_hidden, axis=0) / m\n",
        "    return w1_grad, b1_grad, w2_grad, b2_grad\n",
        "\n",
        "  def init_weights(self, n_features):\n",
        "    self.w1 = np.ones((n_features, self.units))     #(Numbers of features,Size of the hidden layer)\n",
        "    self.b1 = np.zeros(self.units)                  #Size of the hidden layer\n",
        "    self.w2 = np.ones((self.units,1))               #(Size of the hidden layer,1)\n",
        "    self.b2 = 0\n",
        "\n",
        "  def fit(self,x,y,epochs=100, x_val=None, y_val=None):\n",
        "    y = y.reshape(-1,1)\n",
        "    y_val = y_val.reshape(-1,1)\n",
        "    m = len(x)\n",
        "    self.init_weights(x.shape[1])\n",
        "    for i in range(epochs):\n",
        "      a = self.training(x,y,m)\n",
        "      a = np.clip(a,1e-10,1-1e-10)\n",
        "      loss = np.sum(-(y*np.log(a) + (1-y)*np.log(1-a)))\n",
        "      self.losses.append((loss + self.reg_loss()) / m)\n",
        "      self.update_val_loss(x_val,y_val)\n",
        "\n",
        "  def training(self,x,y,m):\n",
        "    z = self.forpass(x)\n",
        "    a = self.activation(z)\n",
        "    err = -(y-a)\n",
        "    w1_grad, b1_grad, w2_grad, b2_grad = self.backprop(x,err)\n",
        "    w1_grad += (self.l1 * np.sign(self.w1) + self.l2 * self.w1) / m\n",
        "    w2_grad += (self.l1 * np.sign(self.w2) + self.l2 * self.w2) / m\n",
        "    self.w1 -= self.lr * w1_grad\n",
        "    self.b1 -= self.lr * b1_grad\n",
        "    self.w2 -= self.lr * w2_grad\n",
        "    self.b2 -= self.lr * b2_grad\n",
        "    return a\n",
        "\n",
        "  def reg_loss(self):\n",
        "    return self.l1 * (np.sum(np.abs(self.w1)) + np.sum(np.abs(self.w2))) + \\\n",
        "           self.l2 / 2 * (np.sum(self.w1**2) + np.sum(self.w2**2))"
      ],
      "metadata": {
        "id": "uJcfb10_A4JR"
      },
      "execution_count": 71,
      "outputs": []
    },
    {
      "cell_type": "code",
      "source": [
        "dual_layer = DualLayer(l2=0.01)\n",
        "dual_layer.fit(x_train_scaled, y_train, x_val=x_val_scaled, y_val=y_val, epochs=20000)\n",
        "dual_layer.score(x_val_scaled, y_val)"
      ],
      "metadata": {
        "id": "6fBJUuE9EGzd",
        "outputId": "5cd44281-e8be-4b48-c209-f393687c7795",
        "colab": {
          "base_uri": "https://localhost:8080/"
        }
      },
      "execution_count": 72,
      "outputs": [
        {
          "output_type": "execute_result",
          "data": {
            "text/plain": [
              "0.978021978021978"
            ]
          },
          "metadata": {},
          "execution_count": 72
        }
      ]
    },
    {
      "cell_type": "code",
      "source": [
        "plt.ylim(0,0.3)\n",
        "plt.plot(dual_layer.losses)\n",
        "plt.plot(dual_layer.val_losses)\n",
        "plt.ylabel('loss')\n",
        "plt.xlabel('epoch')\n",
        "plt.legend(['train_loss','val_loss'])\n",
        "plt.show()"
      ],
      "metadata": {
        "id": "A3X87OuFEWws",
        "outputId": "27864d57-ceb0-4de0-8513-8209b5c14848",
        "colab": {
          "base_uri": "https://localhost:8080/",
          "height": 282
        }
      },
      "execution_count": 74,
      "outputs": [
        {
          "output_type": "display_data",
          "data": {
            "text/plain": [
              "<Figure size 432x288 with 1 Axes>"
            ],
            "image/png": "[encoded data removed]"
          },
          "metadata": {
            "needs_background": "light"
          }
        }
      ]
    },
    {
      "cell_type": "markdown",
      "source": [
        "**Modify init_weights method for weight reset**"
      ],
      "metadata": {
        "id": "9mdkSY53FgCm"
      }
    },
    {
      "cell_type": "code",
      "source": [
        "class RandomInitNetwork(DualLayer):\n",
        "\n",
        "  def init_weights(self,n_features):\n",
        "    np.random.seed(42)\n",
        "    self.w1 = np.random.normal(0,1,\n",
        "                               (n_features, self.units))\n",
        "    self.b1 = np.zeros(self.units)\n",
        "    self.w2 = np.random.normal(0,1,(self.units,1))\n",
        "    self.b2 = 0"
      ],
      "metadata": {
        "id": "-54o-Tc9FfJm"
      },
      "execution_count": 76,
      "outputs": []
    },
    {
      "cell_type": "code",
      "source": [
        "random_init_net = RandomInitNetwork(l2=0.01)\n",
        "random_init_net.fit(x_train_scaled,y_train,\n",
        "                    x_val = x_val_scaled, y_val=y_val,epochs=500)\n",
        "plt.ylim(0, 0.7)\n",
        "plt.plot(random_init_net.losses)\n",
        "plt.plot(random_init_net.val_losses)\n",
        "plt.ylabel('loss')\n",
        "plt.xlabel('epoch')\n",
        "plt.legend(['train_loss','val_loss'])\n",
        "plt.show()"
      ],
      "metadata": {
        "id": "VYdwN-qNHk4y",
        "outputId": "3e4ccac0-2ec6-446f-e91f-0d4789da66d5",
        "colab": {
          "base_uri": "https://localhost:8080/",
          "height": 282
        }
      },
      "execution_count": 81,
      "outputs": [
        {
          "output_type": "display_data",
          "data": {
            "text/plain": [
              "<Figure size 432x288 with 1 Axes>"
            ],
            "image/png": "[encoded data removed]"
          },
          "metadata": {
            "needs_background": "light"
          }
        }
      ]
    },
    {
      "cell_type": "markdown",
      "source": [
        "**Training Model using mini batch**"
      ],
      "metadata": {
        "id": "S8ofyaU8IK9V"
      }
    },
    {
      "cell_type": "code",
      "source": [
        "class MinibatchNetwork(RandomInitNetwork):\n",
        "\n",
        "  def __init__(self, units=10, batch_size=32, learning_rate=0.1, l1=0, l2=0):\n",
        "    super().__init__(units, learning_rate, l1, l2)\n",
        "    self.batch_size = batch_size    #Size of Batch\n",
        "\n",
        "  def fit(self,x,y,epochs=100,x_val=None,y_val=None):\n",
        "    y = y.reshape(-1,1)                   #Change target to column vector\n",
        "    y_val = y_val.reshape(-1,1)\n",
        "    self.init_weights(x.shape[1])         #reset weight of the hidden and output layer\n",
        "    np.random.seed(42)\n",
        "    #Reset as many as epochs\n",
        "    for i in range(epochs):\n",
        "      loss=0\n",
        "      #Circulate returned mini batch from generate function\n",
        "      for x_batch, y_batch in self.gen_batch(x,y):\n",
        "        y_batch = y_batch.reshape(-1,1)           #Change target to column vector\n",
        "        m = len(x_batch)                          #Save number of sample\n",
        "        a = self.training(x_batch, y_batch,m)\n",
        "        #Cliping for save log calculation\n",
        "        a = np.clip(a,1e-10,1-1e-10)\n",
        "        #Add log loss and regulatory loss to the list\n",
        "        loss += np.sum(-(y_batch*np.log(a) + (1-y_batch)*np.log(1-a)))\n",
        "      self.losses.append((loss + self.reg_loss()) / len(x))\n",
        "      #Calculate loss about validation loss\n",
        "      self.update_val_loss(x_val,y_val)\n",
        "\n",
        "    # generate function of mini_batch\n",
        "  def gen_batch(self,x,y):\n",
        "    length = len(x)\n",
        "    bins = length // self.batch_size      #Number of mini batch   \n",
        "    if length % self.batch_size:\n",
        "      bins += 1                           #when they are not separated\n",
        "    indexes = np.random.permutation(np.arange(len(x))) #Mix the index\n",
        "    x = x[indexes]\n",
        "    y = y[indexes]\n",
        "    for i in range(bins):\n",
        "      start = self.batch_size * i\n",
        "      end = self.batch_size * (i+1)\n",
        "      yield x[start:end], y[start:end]  #Slices by batch size and returns"
      ],
      "metadata": {
        "id": "iXLxP2kJIQbp"
      },
      "execution_count": 120,
      "outputs": []
    },
    {
      "cell_type": "code",
      "source": [
        "minibatch_net = MinibatchNetwork(l2=0.01, batch_size=32)\n",
        "minibatch_net.fit(x_train_scaled,y_train,x_val=x_val_scaled,y_val=y_val,\n",
        "                  epochs=500)\n",
        "minibatch_net.score(x_val_scaled, y_val)"
      ],
      "metadata": {
        "id": "G7FMQhVWIJE9",
        "outputId": "b2fe1191-ea84-4db5-f31f-963fb1d0422a",
        "colab": {
          "base_uri": "https://localhost:8080/"
        }
      },
      "execution_count": 121,
      "outputs": [
        {
          "output_type": "execute_result",
          "data": {
            "text/plain": [
              "0.978021978021978"
            ]
          },
          "metadata": {},
          "execution_count": 121
        }
      ]
    },
    {
      "cell_type": "code",
      "source": [
        "plt.plot(minibatch_net.losses)\n",
        "plt.plot(minibatch_net.val_losses)\n",
        "plt.ylabel('loss')\n",
        "plt.xlabel('iteration')\n",
        "plt.legend(['train_loss','val_loss'])\n",
        "plt.show()"
      ],
      "metadata": {
        "id": "I5HO37B6Plpb",
        "outputId": "e8f9f361-e3f1-4f38-c18b-17e1030d3623",
        "colab": {
          "base_uri": "https://localhost:8080/",
          "height": 278
        }
      },
      "execution_count": 122,
      "outputs": [
        {
          "output_type": "display_data",
          "data": {
            "text/plain": [
              "<Figure size 432x288 with 1 Axes>"
            ],
            "image/png": "[encoded data removed]"
          },
          "metadata": {
            "needs_background": "light"
          }
        }
      ]
    },
    {
      "cell_type": "code",
      "source": [
        "minibatch_net = MinibatchNetwork(l2=0.01, batch_size=128)\n",
        "minibatch_net.fit(x_train_scaled, y_train, x_val= x_val_scaled, y_val=y_val, epochs=500)\n",
        "minibatch_net.score(x_val_scaled,y_val)"
      ],
      "metadata": {
        "id": "I6GTYTPqTJuv",
        "outputId": "a3446d73-71a1-4be2-bd25-742a4dbffb43",
        "colab": {
          "base_uri": "https://localhost:8080/"
        }
      },
      "execution_count": 125,
      "outputs": [
        {
          "output_type": "execute_result",
          "data": {
            "text/plain": [
              "0.978021978021978"
            ]
          },
          "metadata": {},
          "execution_count": 125
        }
      ]
    },
    {
      "cell_type": "code",
      "source": [
        "plt.plot(minibatch_net.losses)\n",
        "plt.plot(minibatch_net.val_losses)\n",
        "plt.ylabel('loss')\n",
        "plt.xlabel('iteration')\n",
        "plt.legend(['train_loss','val_loss'])\n",
        "plt.show()"
      ],
      "metadata": {
        "id": "pWi0uvvCToyW",
        "outputId": "10153e4f-70fa-4418-b004-82b1c84e88dd",
        "colab": {
          "base_uri": "https://localhost:8080/",
          "height": 278
        }
      },
      "execution_count": 126,
      "outputs": [
        {
          "output_type": "display_data",
          "data": {
            "text/plain": [
              "<Figure size 432x288 with 1 Axes>"
            ],
            "image/png": "[encoded data removed]"
          },
          "metadata": {
            "needs_background": "light"
          }
        }
      ]
    },
    {
      "cell_type": "markdown",
      "source": [
        "**Training Multi-layer-Percepton**"
      ],
      "metadata": {
        "id": "NVtvUbfhTxbC"
      }
    },
    {
      "cell_type": "code",
      "source": [
        "from sklearn.neural_network import MLPClassifier\n",
        "mlp = MLPClassifier(hidden_layer_sizes=(10,), activation='logistic',\n",
        "                    solver='sgd', alpha=0.01, batch_size=32,\n",
        "                    learning_rate_init=0.1, max_iter=500)"
      ],
      "metadata": {
        "id": "2MlYDY7gT3YL"
      },
      "execution_count": 127,
      "outputs": []
    },
    {
      "cell_type": "code",
      "source": [
        "mlp.fit(x_train_scaled,y_train)\n",
        "mlp.score(x_val_scaled,y_val)"
      ],
      "metadata": {
        "id": "nuS4hCXlTw1j",
        "outputId": "e0044a96-9671-4eea-e84e-575f8b1fae6b",
        "colab": {
          "base_uri": "https://localhost:8080/"
        }
      },
      "execution_count": 129,
      "outputs": [
        {
          "output_type": "execute_result",
          "data": {
            "text/plain": [
              "0.978021978021978"
            ]
          },
          "metadata": {},
          "execution_count": 129
        }
      ]
    }
  ]
}