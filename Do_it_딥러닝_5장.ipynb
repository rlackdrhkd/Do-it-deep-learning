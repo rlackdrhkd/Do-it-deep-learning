{
  "nbformat": 4,
  "nbformat_minor": 0,
  "metadata": {
    "colab": {
      "name": "Do it 딥러닝 5장.ipynb",
      "provenance": [],
      "collapsed_sections": [],
      "authorship_tag": "ABX9TyOsaIbOUuHQuHUuxZCNBKma",
      "include_colab_link": true
    },
    "kernelspec": {
      "name": "python3",
      "display_name": "Python 3"
    },
    "language_info": {
      "name": "python"
    }
  },
  "cells": [
    {
      "cell_type": "markdown",
      "metadata": {
        "id": "view-in-github",
        "colab_type": "text"
      },
      "source": [
        "<a href=\"https://colab.research.google.com/github/rlackdrhkd/Do-it-deep-learning/blob/main/Do_it_%EB%94%A5%EB%9F%AC%EB%8B%9D_5%EC%9E%A5.ipynb\" target=\"_parent\"><img src=\"https://colab.research.google.com/assets/colab-badge.svg\" alt=\"Open In Colab\"/></a>"
      ]
    },
    {
      "cell_type": "code",
      "source": [
        "import matplotlib.pyplot as plt\n",
        "import numpy as np"
      ],
      "metadata": {
        "id": "wMjq-QFzyNRy"
      },
      "execution_count": 1,
      "outputs": []
    },
    {
      "cell_type": "code",
      "execution_count": 2,
      "metadata": {
        "id": "89bVBCRhBnsG"
      },
      "outputs": [],
      "source": [
        "from sklearn.datasets import load_breast_cancer     #training and testing model of logistic regression\n",
        "from sklearn.model_selection import train_test_split\n",
        "cancer = load_breast_cancer()\n",
        "x = cancer.data\n",
        "y = cancer.target\n",
        "x_train_all, x_test, y_train_all, y_test = train_test_split(x,y,stratify=y,\n",
        "                                                            test_size=0.2, random_state=42)"
      ]
    },
    {
      "cell_type": "code",
      "source": [
        "from sklearn.linear_model import SGDClassifier\n",
        "sgd = SGDClassifier(loss=\"log\", random_state=42)\n",
        "sgd.fit(x_train_all,y_train_all)\n",
        "sgd.score(x_test,y_test)"
      ],
      "metadata": {
        "id": "45ozK70KCXHg",
        "colab": {
          "base_uri": "https://localhost:8080/"
        },
        "outputId": "d01b67cc-028a-4492-e5e9-8226be6148a9"
      },
      "execution_count": 3,
      "outputs": [
        {
          "output_type": "execute_result",
          "data": {
            "text/plain": [
              "0.8333333333333334"
            ]
          },
          "metadata": {},
          "execution_count": 3
        }
      ]
    },
    {
      "cell_type": "code",
      "source": [
        "from sklearn.linear_model import SGDClassifier #training and testing to support vector mechine\n",
        "sgd = SGDClassifier(loss='hinge',random_state=42)\n",
        "sgd.fit(x_train_all,y_train_all)\n",
        "sgd.score(x_test,y_test)"
      ],
      "metadata": {
        "colab": {
          "base_uri": "https://localhost:8080/"
        },
        "id": "Y4ViAH2Gumtx",
        "outputId": "8f33c0b5-e192-4e94-8253-1a964dd0592f"
      },
      "execution_count": 4,
      "outputs": [
        {
          "output_type": "execute_result",
          "data": {
            "text/plain": [
              "0.9385964912280702"
            ]
          },
          "metadata": {},
          "execution_count": 4
        }
      ]
    },
    {
      "cell_type": "code",
      "source": [
        "from sklearn.datasets import load_breast_cancer   #ready data set\n",
        "from sklearn.model_selection import train_test_split\n",
        "cancer = load_breast_cancer()\n",
        "x = cancer.data\n",
        "y = cancer.target\n",
        "x_train_all, x_test, y_train_all, y_test = train_test_split(x,y,stratify=y,\n",
        "                                                            test_size=0.2, random_state=42)"
      ],
      "metadata": {
        "id": "SiofVqXrvD4G"
      },
      "execution_count": 4,
      "outputs": []
    },
    {
      "cell_type": "code",
      "source": [
        "x_train,x_val,y_train,y_val = train_test_split(x_train_all,y_train_all,\n",
        "                                               stratify=y_train_all, test_size=0.2, random_state=42)  #split up verification set\n",
        "print(len(x_train),len(x_val))"
      ],
      "metadata": {
        "colab": {
          "base_uri": "https://localhost:8080/"
        },
        "id": "MSTt5LTZwZuC",
        "outputId": "901082b5-69d6-4e2a-f270-ec5e1539f9d1"
      },
      "execution_count": 5,
      "outputs": [
        {
          "output_type": "stream",
          "name": "stdout",
          "text": [
            "364 91\n"
          ]
        }
      ]
    },
    {
      "cell_type": "code",
      "source": [
        "sgd = SGDClassifier(loss='log',random_state=42)\n",
        "sgd.fit(x_train,y_train)\n",
        "sgd.score(x_val,y_val)"
      ],
      "metadata": {
        "colab": {
          "base_uri": "https://localhost:8080/"
        },
        "id": "2fAbAg7axGDJ",
        "outputId": "951115bd-d8c3-451a-ad4b-7cbf7d92604b"
      },
      "execution_count": 33,
      "outputs": [
        {
          "output_type": "execute_result",
          "data": {
            "text/plain": [
              "0.6923076923076923"
            ]
          },
          "metadata": {},
          "execution_count": 33
        }
      ]
    },
    {
      "cell_type": "code",
      "source": [
        "print(cancer.feature_names[[2,3]]) # compare prepared test data \n",
        "plt.boxplot(x_train[:,2:4])\n",
        "plt.xlabel('feature')\n",
        "plt.ylabel('value')\n",
        "plt.show()"
      ],
      "metadata": {
        "colab": {
          "base_uri": "https://localhost:8080/",
          "height": 296
        },
        "id": "QvZdvr-Wxu6S",
        "outputId": "c28d3481-f6ee-4ae8-bbdb-d9cb43da830f"
      },
      "execution_count": 34,
      "outputs": [
        {
          "output_type": "stream",
          "name": "stdout",
          "text": [
            "['mean perimeter' 'mean area']\n"
          ]
        },
        {
          "output_type": "display_data",
          "data": {
            "text/plain": [
              "<Figure size 432x288 with 1 Axes>"
            ],
            "image/png": "[encoded data removed]"
          },
          "metadata": {
            "needs_background": "light"
          }
        }
      ]
    },
    {
      "cell_type": "code",
      "source": [
        "def __init__(self, learning_rate=0.1): #Add learing rate parameter and variable to record weight\n",
        "  self.w = None\n",
        "  self.b = None\n",
        "  self.losses = []\n",
        "  self.w_history = []\n",
        "  self.lr = learning_rate"
      ],
      "metadata": {
        "id": "917R7N4-yyNI"
      },
      "execution_count": 35,
      "outputs": []
    },
    {
      "cell_type": "code",
      "source": [
        "class SingleLayer:\n",
        "\n",
        "  def __init__(self, learning_rate=0.1): #Add learing rate parameter and variable to record weight\n",
        "    self.w = None\n",
        "    self.b = None\n",
        "    self.losses = []\n",
        "    self.w_history = []\n",
        "    self.lr = learning_rate\n",
        "\n",
        "  def forpass(self,x):  # Calculation Straight line\n",
        "    z = np.sum(x*self.w) + self.b\n",
        "    return z\n",
        "\n",
        "  def backprop(self, x, err):\n",
        "    w_grad = x*err      # Calculation gradient about weight\n",
        "    b_grad = 1*err      # Calculation gradient about intercept    \n",
        "    return w_grad, b_grad\n",
        "  \n",
        "  def add_bias(self, x): #Adds a column vector filled with 1 at the beginning of the matrix\n",
        "    return np.c_[np.ones((x.shape[0],1)),x]\n",
        "\n",
        "  def activation(self,z): #Calculation sigmoid\n",
        "    a = 1 / (1+ np.exp(-z))\n",
        "    return a\n",
        "\n",
        "  def fit(self,x,y,epochs=100):      #Record weight and controll update volume\n",
        "    self.w = np.ones(x.shape[1])     #resets weight\n",
        "    self.b = 0                       #resets intercept\n",
        "    self.w_history.append(self.w.copy())   #record weight\n",
        "    np.random.seed(42)                     #Desingate randomly seed\n",
        "    for i in range(epochs):\n",
        "      loss=0\n",
        "      indexes = np.random.permutation(np.arange(len(x)))\n",
        "      for i in indexes:\n",
        "        z = self.forpass(x[i])\n",
        "        a = self.activation(z)\n",
        "        err = -(y[i] - a)\n",
        "        w_grad, b_grad = self.backprop(x[i],err)\n",
        "        self.w -= self.lr * w_grad\n",
        "        self.b -= b_grad\n",
        "        self.w_history.append(self.w.copy())\n",
        "        a = np.clip(a,1e-10, 1-1e-10)\n",
        "        loss += -(y[i]*np.log(a)+(1-y[i])*np.log(1-a))\n",
        "        self.losses.append(loss/len(y))\n",
        "\n",
        "  def predict(self,x):\n",
        "    z = [self.forpass(x_i) for x_i in x] #forpass calculation\n",
        "    return np.array(z) > 0               #apply stair function\n",
        "\n",
        "  def score(self,x,y):\n",
        "    return np.mean(self.predict(x) == y)"
      ],
      "metadata": {
        "id": "r0JwBG2Z3Sc7"
      },
      "execution_count": 36,
      "outputs": []
    },
    {
      "cell_type": "code",
      "source": [
        "layer1 = SingleLayer()\n",
        "layer1.fit(x_train,y_train)\n",
        "layer1.score(x_val,y_val)"
      ],
      "metadata": {
        "colab": {
          "base_uri": "https://localhost:8080/"
        },
        "id": "sMpF_cAv1IxM",
        "outputId": "b363d613-89a1-4618-eb7c-eebf3c9e6d59"
      },
      "execution_count": 37,
      "outputs": [
        {
          "output_type": "stream",
          "name": "stderr",
          "text": [
            "/usr/local/lib/python3.7/dist-packages/ipykernel_launcher.py:23: RuntimeWarning: overflow encountered in exp\n"
          ]
        },
        {
          "output_type": "execute_result",
          "data": {
            "text/plain": [
              "0.9120879120879121"
            ]
          },
          "metadata": {},
          "execution_count": 37
        }
      ]
    },
    {
      "cell_type": "code",
      "source": [
        "w2 = []\n",
        "w3 = []\n",
        "for w in layer1.w_history:\n",
        "  w2.append(w[2])\n",
        "  w3.append(w[3])\n",
        "plt.plot(w2,w3)\n",
        "plt.plot(w2[-1],w3[-1],'ro')\n",
        "plt.xlabel('w[2]')\n",
        "plt.ylabel('w[3]')\n",
        "plt.show()"
      ],
      "metadata": {
        "colab": {
          "base_uri": "https://localhost:8080/",
          "height": 279
        },
        "id": "cPN-gCrs1o8X",
        "outputId": "e0cef279-d37f-459c-ccee-742eac39b102"
      },
      "execution_count": 38,
      "outputs": [
        {
          "output_type": "display_data",
          "data": {
            "text/plain": [
              "<Figure size 432x288 with 1 Axes>"
            ],
            "image/png": "[encoded data removed]"
          },
          "metadata": {
            "needs_background": "light"
          }
        }
      ]
    },
    {
      "cell_type": "code",
      "source": [
        "train_mean = np.mean(x_train, axis=0)\n",
        "train_std = np.std(x_train, axis=0)\n",
        "x_train_scaled = (x_train - train_mean) / train_std"
      ],
      "metadata": {
        "id": "hsuj40t64Qv_"
      },
      "execution_count": 10,
      "outputs": []
    },
    {
      "cell_type": "code",
      "source": [
        "layer2 = SingleLayer()\n",
        "layer2.fit(x_train_scaled, y_train)\n",
        "w2 = []\n",
        "w3 = []\n",
        "for w in layer2.w_history:\n",
        "  w2.append(w[2])\n",
        "  w3.append(w[3])\n",
        "plt.plot(w2,w3)\n",
        "plt.plot(w2[-1],w3[-1],'ro')\n",
        "plt.xlabel('w[2]')\n",
        "plt.ylabel('w[3]')\n",
        "plt.show()"
      ],
      "metadata": {
        "colab": {
          "base_uri": "https://localhost:8080/",
          "height": 279
        },
        "id": "kxGLDXPz4l_C",
        "outputId": "6cc41bb9-a001-4b08-8290-a26dd70c59c2"
      },
      "execution_count": 40,
      "outputs": [
        {
          "output_type": "display_data",
          "data": {
            "text/plain": [
              "<Figure size 432x288 with 1 Axes>"
            ],
            "image/png": "[encoded data removed]"
          },
          "metadata": {
            "needs_background": "light"
          }
        }
      ]
    },
    {
      "cell_type": "code",
      "source": [
        "layer2.score(x_val,y_val)"
      ],
      "metadata": {
        "id": "jkgrUfFJ5D7k",
        "colab": {
          "base_uri": "https://localhost:8080/"
        },
        "outputId": "3f166e54-e0a5-4c7e-b512-35f0f1f9bd09"
      },
      "execution_count": 41,
      "outputs": [
        {
          "output_type": "execute_result",
          "data": {
            "text/plain": [
              "0.37362637362637363"
            ]
          },
          "metadata": {},
          "execution_count": 41
        }
      ]
    },
    {
      "cell_type": "code",
      "source": [
        "val_mean = np.mean(x_val, axis=0)\n",
        "val_std = np.std(x_val, axis=0)\n",
        "x_val_scaled = (x_val - val_mean) / (val_std)\n",
        "layer2.score(x_val_scaled, y_val)"
      ],
      "metadata": {
        "colab": {
          "base_uri": "https://localhost:8080/",
          "height": 198
        },
        "id": "N65GHcdk5UZv",
        "outputId": "600887db-80f5-47bb-924b-7ed9af12dbe1"
      },
      "execution_count": 11,
      "outputs": [
        {
          "output_type": "error",
          "ename": "NameError",
          "evalue": "ignored",
          "traceback": [
            "\u001b[0;31m---------------------------------------------------------------------------\u001b[0m",
            "\u001b[0;31mNameError\u001b[0m                                 Traceback (most recent call last)",
            "\u001b[0;32m<ipython-input-11-26a38b39c48d>\u001b[0m in \u001b[0;36m<module>\u001b[0;34m\u001b[0m\n\u001b[1;32m      2\u001b[0m \u001b[0mval_std\u001b[0m \u001b[0;34m=\u001b[0m \u001b[0mnp\u001b[0m\u001b[0;34m.\u001b[0m\u001b[0mstd\u001b[0m\u001b[0;34m(\u001b[0m\u001b[0mx_val\u001b[0m\u001b[0;34m,\u001b[0m \u001b[0maxis\u001b[0m\u001b[0;34m=\u001b[0m\u001b[0;36m0\u001b[0m\u001b[0;34m)\u001b[0m\u001b[0;34m\u001b[0m\u001b[0;34m\u001b[0m\u001b[0m\n\u001b[1;32m      3\u001b[0m \u001b[0mx_val_scaled\u001b[0m \u001b[0;34m=\u001b[0m \u001b[0;34m(\u001b[0m\u001b[0mx_val\u001b[0m \u001b[0;34m-\u001b[0m \u001b[0mval_mean\u001b[0m\u001b[0;34m)\u001b[0m \u001b[0;34m/\u001b[0m \u001b[0;34m(\u001b[0m\u001b[0mval_std\u001b[0m\u001b[0;34m)\u001b[0m\u001b[0;34m\u001b[0m\u001b[0;34m\u001b[0m\u001b[0m\n\u001b[0;32m----> 4\u001b[0;31m \u001b[0mlayer2\u001b[0m\u001b[0;34m.\u001b[0m\u001b[0mscore\u001b[0m\u001b[0;34m(\u001b[0m\u001b[0mx_val_scaled\u001b[0m\u001b[0;34m,\u001b[0m \u001b[0my_val\u001b[0m\u001b[0;34m)\u001b[0m\u001b[0;34m\u001b[0m\u001b[0;34m\u001b[0m\u001b[0m\n\u001b[0m",
            "\u001b[0;31mNameError\u001b[0m: name 'layer2' is not defined"
          ]
        }
      ]
    },
    {
      "cell_type": "code",
      "source": [
        "plt.plot(x_train[:50,0],x_train[:50,1],'bo')\n",
        "plt.plot(x_val[:50,0],x_val[:50,1],'ro')\n",
        "plt.xlabel('fature1')\n",
        "plt.ylabel('fature2')\n",
        "plt.legend(['train set', 'val. set'])\n",
        "plt.show"
      ],
      "metadata": {
        "colab": {
          "base_uri": "https://localhost:8080/",
          "height": 296
        },
        "id": "sRyFvFdL5-Z9",
        "outputId": "0018c6c6-cc19-4f17-b9b6-f384ee605d4d"
      },
      "execution_count": 43,
      "outputs": [
        {
          "output_type": "execute_result",
          "data": {
            "text/plain": [
              "<function matplotlib.pyplot.show(*args, **kw)>"
            ]
          },
          "metadata": {},
          "execution_count": 43
        },
        {
          "output_type": "display_data",
          "data": {
            "text/plain": [
              "<Figure size 432x288 with 1 Axes>"
            ],
            "image/png": "[encoded data removed]"
          },
          "metadata": {
            "needs_background": "light"
          }
        }
      ]
    },
    {
      "cell_type": "code",
      "source": [
        "plt.plot(x_train_scaled[:50,0],x_train_scaled[:50,1],'bo')\n",
        "plt.plot(x_val_scaled[:50,0],x_val_scaled[:50,1],'ro')\n",
        "plt.xlabel('fature1')\n",
        "plt.ylabel('fature2')\n",
        "plt.legend(['train set', 'val. set'])\n",
        "plt.show"
      ],
      "metadata": {
        "colab": {
          "base_uri": "https://localhost:8080/",
          "height": 296
        },
        "id": "bCmX-cNz6lXT",
        "outputId": "231e0048-e550-491b-8b03-0d396c236545"
      },
      "execution_count": 44,
      "outputs": [
        {
          "output_type": "execute_result",
          "data": {
            "text/plain": [
              "<function matplotlib.pyplot.show(*args, **kw)>"
            ]
          },
          "metadata": {},
          "execution_count": 44
        },
        {
          "output_type": "display_data",
          "data": {
            "text/plain": [
              "<Figure size 432x288 with 1 Axes>"
            ],
            "image/png": "[encoded data removed]"
          },
          "metadata": {
            "needs_background": "light"
          }
        }
      ]
    },
    {
      "cell_type": "code",
      "source": [
        "x_val_scaled = (x_val - train_mean) / train_std\n",
        "plt.plot(x_train_scaled[:50,0],x_train_scaled[:50,1],'bo')\n",
        "plt.plot(x_val_scaled[:50,0],x_val_scaled[:50,1],'ro')\n",
        "plt.xlabel('fature1')\n",
        "plt.ylabel('fature2')\n",
        "plt.legend(['train set', 'val. set'])\n",
        "plt.show"
      ],
      "metadata": {
        "colab": {
          "base_uri": "https://localhost:8080/",
          "height": 296
        },
        "id": "UsJFe97D6zrd",
        "outputId": "a8296d83-fd34-46fb-81ee-744fd1ddd0e9"
      },
      "execution_count": 11,
      "outputs": [
        {
          "output_type": "execute_result",
          "data": {
            "text/plain": [
              "<function matplotlib.pyplot.show(*args, **kw)>"
            ]
          },
          "metadata": {},
          "execution_count": 11
        },
        {
          "output_type": "display_data",
          "data": {
            "text/plain": [
              "<Figure size 432x288 with 1 Axes>"
            ],
            "image/png": "[encoded data removed]"
          },
          "metadata": {
            "needs_background": "light"
          }
        }
      ]
    },
    {
      "cell_type": "code",
      "source": [
        "layer2.score(x_val_scaled,y_val)"
      ],
      "metadata": {
        "colab": {
          "base_uri": "https://localhost:8080/"
        },
        "id": "b1d2m5Qt7GwD",
        "outputId": "e59b36e8-8b8b-41d1-8040-2d19a57773ca"
      },
      "execution_count": 46,
      "outputs": [
        {
          "output_type": "execute_result",
          "data": {
            "text/plain": [
              "0.967032967032967"
            ]
          },
          "metadata": {},
          "execution_count": 46
        }
      ]
    },
    {
      "cell_type": "code",
      "source": [
        "class SingleLayer:\n",
        "\n",
        "  def __init__(self, learning_rate=0.1): #Add learing rate parameter and variable to record weight\n",
        "    self.w = None\n",
        "    self.b = None\n",
        "    self.losses = []\n",
        "    self.val_losses= []\n",
        "    self.w_history = []\n",
        "    self.lr = learning_rate\n",
        "\n",
        "  def forpass(self,x):  # Calculation Straight line\n",
        "    z = np.sum(x*self.w) + self.b\n",
        "    return z\n",
        "\n",
        "  def backprop(self, x, err):\n",
        "    w_grad = x*err      # Calculation gradient about weight\n",
        "    b_grad = 1*err      # Calculation gradient about intercept    \n",
        "    return w_grad, b_grad\n",
        "  \n",
        "  def add_bias(self, x): #Adds a column vector filled with 1 at the beginning of the matrix\n",
        "    return np.c_[np.ones((x.shape[0],1)),x]\n",
        "\n",
        "  def activation(self,z): #Calculation sigmoid\n",
        "    a = 1 / (1+ np.exp(-z))\n",
        "    return a\n",
        "\n",
        "  def update_val_loss(self,x_val,y_val):\n",
        "    if x_val is None:\n",
        "      return \n",
        "    val_loss = 0\n",
        "    for i in range(len(x_val)):\n",
        "      z = self.forpass(x_val[i])\n",
        "      a = self.activation(z)\n",
        "      a = np.clip(a,1e-10,1-1e-10)\n",
        "      val_loss += -(y_val[i]*np.log(a)+(1-y_val[i])*np.log(1-a))\n",
        "    self.val_losses.append(val_loss/len(y_val))\n",
        "\n",
        "  def fit(self,x,y,epochs=100,x_val=None,y_val=None):      #Record weight and controll update volume\n",
        "    self.w = np.ones(x.shape[1])     #resets weight\n",
        "    self.b = 0                       #resets intercept\n",
        "    self.w_history.append(self.w.copy())   #record weight\n",
        "    np.random.seed(42)                     #Desingate randomly seed\n",
        "    for i in range(epochs):\n",
        "      loss=0\n",
        "      indexes = np.random.permutation(np.arange(len(x)))\n",
        "      for i in indexes:\n",
        "        z = self.forpass(x[i])\n",
        "        a = self.activation(z)\n",
        "        err = -(y[i] - a)\n",
        "        w_grad, b_grad = self.backprop(x[i],err)\n",
        "        self.w -= self.lr * w_grad\n",
        "        self.b -= b_grad\n",
        "        self.w_history.append(self.w.copy())\n",
        "        a = np.clip(a,1e-10, 1-1e-10)\n",
        "        loss += -(y[i]*np.log(a)+(1-y[i])*np.log(1-a))\n",
        "      self.losses.append(loss/len(y))\n",
        "      self.update_val_loss(x_val,y_val)\n",
        "\n",
        "  def predict(self,x):\n",
        "    z = [self.forpass(x_i) for x_i in x] #forpass calculation\n",
        "    return np.array(z) > 0               #apply stair function\n",
        "\n",
        "  def score(self,x,y):\n",
        "    return np.mean(self.predict(x) == y)"
      ],
      "metadata": {
        "id": "7CxRLqae8gus"
      },
      "execution_count": 70,
      "outputs": []
    },
    {
      "cell_type": "code",
      "source": [
        "layer3 = SingleLayer()\n",
        "layer3.fit(x_train_scaled, y_train, x_val=x_val_scaled, y_val=y_val)"
      ],
      "metadata": {
        "id": "EBnS7GTS9Q-R"
      },
      "execution_count": 71,
      "outputs": []
    },
    {
      "cell_type": "code",
      "source": [
        "plt.ylim(0,0.3)\n",
        "plt.plot(layer3.losses)\n",
        "plt.plot(layer3.val_losses)\n",
        "plt.ylabel('loss')\n",
        "plt.xlabel('epoch')\n",
        "plt.legend(['train_loss','val_loss'])\n",
        "plt.show()"
      ],
      "metadata": {
        "colab": {
          "base_uri": "https://localhost:8080/",
          "height": 283
        },
        "id": "CMBjDh-T-tQr",
        "outputId": "abfdd9c7-f472-4c1b-ff23-02d00a65a550"
      },
      "execution_count": 72,
      "outputs": [
        {
          "output_type": "display_data",
          "data": {
            "text/plain": [
              "<Figure size 432x288 with 1 Axes>"
            ],
            "image/png": "[encoded data removed]"
          },
          "metadata": {
            "needs_background": "light"
          }
        }
      ]
    },
    {
      "cell_type": "code",
      "source": [
        "layer4 = SingleLayer()\n",
        "layer4.fit(x_train_scaled,y_train,epochs=20)\n",
        "layer4.score(x_val_scaled,y_val)"
      ],
      "metadata": {
        "colab": {
          "base_uri": "https://localhost:8080/"
        },
        "id": "5Qe5qLi0EoSJ",
        "outputId": "d2ba4578-2fd3-4c42-ef32-1bd56111fbfd"
      },
      "execution_count": 73,
      "outputs": [
        {
          "output_type": "execute_result",
          "data": {
            "text/plain": [
              "0.978021978021978"
            ]
          },
          "metadata": {},
          "execution_count": 73
        }
      ]
    },
    {
      "cell_type": "code",
      "source": [
        ""
      ],
      "metadata": {
        "id": "NyftcGRZFPl8"
      },
      "execution_count": null,
      "outputs": []
    }
  ]
}