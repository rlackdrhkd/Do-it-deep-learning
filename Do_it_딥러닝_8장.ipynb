{
  "nbformat": 4,
  "nbformat_minor": 0,
  "metadata": {
    "colab": {
      "name": "Do it 딥러닝 8장.ipynb",
      "provenance": [],
      "collapsed_sections": [],
      "authorship_tag": "ABX9TyOXTJXjecTJiceJhYLbz7uv",
      "include_colab_link": true
    },
    "kernelspec": {
      "name": "python3",
      "display_name": "Python 3"
    },
    "language_info": {
      "name": "python"
    }
  },
  "cells": [
    {
      "cell_type": "markdown",
      "metadata": {
        "id": "view-in-github",
        "colab_type": "text"
      },
      "source": [
        "<a href=\"https://colab.research.google.com/github/rlackdrhkd/Do-it-deep-learning/blob/main/Do_it_%EB%94%A5%EB%9F%AC%EB%8B%9D_8%EC%9E%A5.ipynb\" target=\"_parent\"><img src=\"https://colab.research.google.com/assets/colab-badge.svg\" alt=\"Open In Colab\"/></a>"
      ]
    },
    {
      "cell_type": "code",
      "execution_count": 2,
      "metadata": {
        "id": "AmrwMwSi38lq"
      },
      "outputs": [],
      "source": [
        "import numpy as np"
      ]
    },
    {
      "cell_type": "code",
      "source": [
        "w = np.array([2,1,5,3])\n",
        "x = np.array([2,8,3,7,1,2,0,4,5])"
      ],
      "metadata": {
        "id": "cwDeNaF87TWM"
      },
      "execution_count": 3,
      "outputs": []
    },
    {
      "cell_type": "code",
      "source": [
        "w_r = np.flip(w)\n",
        "print(w_r)"
      ],
      "metadata": {
        "colab": {
          "base_uri": "https://localhost:8080/"
        },
        "id": "UGW1IPwt7V7X",
        "outputId": "d7b3b9f5-e3d7-4fb5-a96f-fa853563a1e2"
      },
      "execution_count": 4,
      "outputs": [
        {
          "output_type": "stream",
          "name": "stdout",
          "text": [
            "[3 5 1 2]\n"
          ]
        }
      ]
    },
    {
      "cell_type": "code",
      "source": [
        "w_r = w[::-1]\n",
        "print(w_r)"
      ],
      "metadata": {
        "colab": {
          "base_uri": "https://localhost:8080/"
        },
        "id": "2mrRAXWT7Y98",
        "outputId": "5c5b339e-e6b5-474e-e38e-c9403124f7a1"
      },
      "execution_count": 7,
      "outputs": [
        {
          "output_type": "stream",
          "name": "stdout",
          "text": [
            "[3 5 1 2]\n"
          ]
        }
      ]
    },
    {
      "cell_type": "code",
      "source": [
        "for i in range(6):\n",
        "  print(np.dot(x[i:i+4], w_r))"
      ],
      "metadata": {
        "colab": {
          "base_uri": "https://localhost:8080/"
        },
        "id": "3PIepmS69F5U",
        "outputId": "eb9b3716-4e75-438f-e2fe-22b228859399"
      },
      "execution_count": 8,
      "outputs": [
        {
          "output_type": "stream",
          "name": "stdout",
          "text": [
            "63\n",
            "48\n",
            "49\n",
            "28\n",
            "21\n",
            "20\n"
          ]
        }
      ]
    },
    {
      "cell_type": "code",
      "source": [
        "from scipy.signal import convolve\n",
        "convolve(x,w,mode='valid')"
      ],
      "metadata": {
        "colab": {
          "base_uri": "https://localhost:8080/"
        },
        "id": "wpvGcU149Owb",
        "outputId": "fe643bba-7b30-4d89-fa8f-fb01c2269506"
      },
      "execution_count": 9,
      "outputs": [
        {
          "output_type": "execute_result",
          "data": {
            "text/plain": [
              "array([63, 48, 49, 28, 21, 20])"
            ]
          },
          "metadata": {},
          "execution_count": 9
        }
      ]
    },
    {
      "cell_type": "code",
      "source": [
        "from scipy.signal import correlate\n",
        "correlate(x,w, mode='valid')"
      ],
      "metadata": {
        "colab": {
          "base_uri": "https://localhost:8080/"
        },
        "id": "EwuOBXWo9gBn",
        "outputId": "90d67549-41e3-46dd-942d-46e2f2bcab6b"
      },
      "execution_count": 10,
      "outputs": [
        {
          "output_type": "execute_result",
          "data": {
            "text/plain": [
              "array([48, 57, 24, 25, 16, 39])"
            ]
          },
          "metadata": {},
          "execution_count": 10
        }
      ]
    },
    {
      "cell_type": "code",
      "source": [
        "correlate(x,w,mode='full')"
      ],
      "metadata": {
        "colab": {
          "base_uri": "https://localhost:8080/"
        },
        "id": "RP35Dq0LLmuf",
        "outputId": "f5516c57-2d46-4efa-b6bf-fd32b5700aae"
      },
      "execution_count": 12,
      "outputs": [
        {
          "output_type": "execute_result",
          "data": {
            "text/plain": [
              "array([ 6, 34, 51, 48, 57, 24, 25, 16, 39, 29, 13, 10])"
            ]
          },
          "metadata": {},
          "execution_count": 12
        }
      ]
    },
    {
      "cell_type": "code",
      "source": [
        "correlate(x,w,mode='same')"
      ],
      "metadata": {
        "colab": {
          "base_uri": "https://localhost:8080/"
        },
        "id": "KI9xEVlRL9Nc",
        "outputId": "5777e871-f0c7-444a-8b87-739321be720e"
      },
      "execution_count": 13,
      "outputs": [
        {
          "output_type": "execute_result",
          "data": {
            "text/plain": [
              "array([34, 51, 48, 57, 24, 25, 16, 39, 29])"
            ]
          },
          "metadata": {},
          "execution_count": 13
        }
      ]
    },
    {
      "cell_type": "code",
      "source": [
        "x = np.array([[1,2,3],\n",
        "             [4,5,6],\n",
        "             [7,8,9]])\n",
        "w = np.array([[2,0],[0,0]])\n",
        "from scipy.signal import correlate2d\n",
        "correlate2d(x,w,mode='valid')"
      ],
      "metadata": {
        "colab": {
          "base_uri": "https://localhost:8080/"
        },
        "id": "PIzpKXFWMFVm",
        "outputId": "45949630-71e1-4f11-83f0-6b8c5f13283f"
      },
      "execution_count": 15,
      "outputs": [
        {
          "output_type": "execute_result",
          "data": {
            "text/plain": [
              "array([[ 2,  4],\n",
              "       [ 8, 10]])"
            ]
          },
          "metadata": {},
          "execution_count": 15
        }
      ]
    },
    {
      "cell_type": "code",
      "source": [
        "correlate2d(x,w,mode='same')"
      ],
      "metadata": {
        "colab": {
          "base_uri": "https://localhost:8080/"
        },
        "id": "yfdN8OmXMrJg",
        "outputId": "614f03e0-5787-47ab-93d9-ef4954d51fa6"
      },
      "execution_count": 16,
      "outputs": [
        {
          "output_type": "execute_result",
          "data": {
            "text/plain": [
              "array([[ 2,  4,  6],\n",
              "       [ 8, 10, 12],\n",
              "       [14, 16, 18]])"
            ]
          },
          "metadata": {},
          "execution_count": 16
        }
      ]
    },
    {
      "cell_type": "code",
      "source": [
        "import tensorflow as tf\n",
        "x_4d = x.astype(np.float).reshape(1,3,3,1)\n",
        "w_4d = w.astype(np.float).reshape(2,2,1,1)"
      ],
      "metadata": {
        "colab": {
          "base_uri": "https://localhost:8080/"
        },
        "id": "5TPGej03OxNw",
        "outputId": "17300f47-cd00-4c60-f91b-ef11016b590d"
      },
      "execution_count": 17,
      "outputs": [
        {
          "output_type": "stream",
          "name": "stderr",
          "text": [
            "/usr/local/lib/python3.7/dist-packages/ipykernel_launcher.py:2: DeprecationWarning: `np.float` is a deprecated alias for the builtin `float`. To silence this warning, use `float` by itself. Doing this will not modify any behavior and is safe. If you specifically wanted the numpy scalar type, use `np.float64` here.\n",
            "Deprecated in NumPy 1.20; for more details and guidance: https://numpy.org/devdocs/release/1.20.0-notes.html#deprecations\n",
            "  \n",
            "/usr/local/lib/python3.7/dist-packages/ipykernel_launcher.py:3: DeprecationWarning: `np.float` is a deprecated alias for the builtin `float`. To silence this warning, use `float` by itself. Doing this will not modify any behavior and is safe. If you specifically wanted the numpy scalar type, use `np.float64` here.\n",
            "Deprecated in NumPy 1.20; for more details and guidance: https://numpy.org/devdocs/release/1.20.0-notes.html#deprecations\n",
            "  This is separate from the ipykernel package so we can avoid doing imports until\n"
          ]
        }
      ]
    },
    {
      "cell_type": "code",
      "source": [
        "c_out = tf.nn.conv2d(x_4d,w_4d, strides=1, padding='SAME')"
      ],
      "metadata": {
        "id": "dAlS0j6-O_ve"
      },
      "execution_count": 18,
      "outputs": []
    },
    {
      "cell_type": "code",
      "source": [
        "c_out.numpy().reshape(3,3)"
      ],
      "metadata": {
        "colab": {
          "base_uri": "https://localhost:8080/"
        },
        "id": "zVevcuZyPK3m",
        "outputId": "90f2515c-30f7-445e-df04-6fb46d60cf11"
      },
      "execution_count": 19,
      "outputs": [
        {
          "output_type": "execute_result",
          "data": {
            "text/plain": [
              "array([[ 2.,  4.,  6.],\n",
              "       [ 8., 10., 12.],\n",
              "       [14., 16., 18.]])"
            ]
          },
          "metadata": {},
          "execution_count": 19
        }
      ]
    },
    {
      "cell_type": "code",
      "source": [
        "x = np.array([[1,2,3,4],\n",
        "              [5,6,7,8],\n",
        "              [9,10,11,12],\n",
        "              [13,14,15,16]])\n",
        "x = x.reshape(1,4,4,1)"
      ],
      "metadata": {
        "id": "ugvfFYz2rFpY"
      },
      "execution_count": 22,
      "outputs": []
    },
    {
      "cell_type": "code",
      "source": [
        "p_out = tf.nn.max_pool2d(x,ksize=2,strides=2,padding='VALID')\n",
        "p_out.numpy().reshape(2,2)"
      ],
      "metadata": {
        "colab": {
          "base_uri": "https://localhost:8080/"
        },
        "id": "T_0KW42nrlFW",
        "outputId": "293238dd-3afc-44a3-ab32-ddb5b3b5da4b"
      },
      "execution_count": 23,
      "outputs": [
        {
          "output_type": "execute_result",
          "data": {
            "text/plain": [
              "array([[ 6.,  8.],\n",
              "       [14., 16.]], dtype=float32)"
            ]
          },
          "metadata": {},
          "execution_count": 23
        }
      ]
    },
    {
      "cell_type": "code",
      "source": [
        "def relu(x):\n",
        "  return np.maximum(x,0)"
      ],
      "metadata": {
        "id": "ei052SlIr_lA"
      },
      "execution_count": 24,
      "outputs": []
    },
    {
      "cell_type": "code",
      "source": [
        "x = np.array([-1,2,-3,4,-5])\n",
        "relu(x)"
      ],
      "metadata": {
        "colab": {
          "base_uri": "https://localhost:8080/"
        },
        "id": "xcuFG4yYsFjf",
        "outputId": "69a3aaaa-0a14-4e26-da68-dbfe0e3eee4e"
      },
      "execution_count": 27,
      "outputs": [
        {
          "output_type": "execute_result",
          "data": {
            "text/plain": [
              "array([0, 2, 0, 4, 0])"
            ]
          },
          "metadata": {},
          "execution_count": 27
        }
      ]
    },
    {
      "cell_type": "code",
      "source": [
        "r_out = tf.nn.relu(x)\n",
        "r_out.numpy()"
      ],
      "metadata": {
        "colab": {
          "base_uri": "https://localhost:8080/"
        },
        "id": "l6y8eaT9sNWF",
        "outputId": "a66fce4b-bcd8-4e68-aa52-496fbe40daa8"
      },
      "execution_count": 28,
      "outputs": [
        {
          "output_type": "execute_result",
          "data": {
            "text/plain": [
              "array([0, 2, 0, 4, 0])"
            ]
          },
          "metadata": {},
          "execution_count": 28
        }
      ]
    },
    {
      "cell_type": "code",
      "source": [
        "from tensorflow.python.ops.gen_data_flow_ops import accumulator_apply_gradient\n",
        "from tensorflow.python.ops.nn_ops import softmax_cross_entropy_with_logits\n",
        "from tensorflow.python.ops.functional_ops import Gradient\n",
        "from sys import float_repr_style\n",
        "from numpy.lib.index_tricks import c_\n",
        "class ConvolutionNetwork:\n",
        "\n",
        "  def __init__(self, n_kernels=10, units=10, batch_size=32, learning_rate=0.1):\n",
        "    self.n_kernels = n_kernels\n",
        "    self.kernel_size =3 \n",
        "    self.optimizer = None\n",
        "    self.conv_w = None\n",
        "    self.conv_b = None\n",
        "    self.units = units\n",
        "    self.batch_size = batch_size\n",
        "    self.w1 = None\n",
        "    self.b1 = None\n",
        "    self.w2 = None\n",
        "    self.b2 = None\n",
        "    self.a1 = None\n",
        "    self.losses = []\n",
        "    self.val_losses = []\n",
        "    self.lr = learning_rate\n",
        "\n",
        "  def forpass(self,x):\n",
        "    c_out = tf.nn.conv2d(x, self.conv_w, strides=1, padding='SAME') + self.conv_b\n",
        "    r_out = tf.nn.relu(c_out)\n",
        "    p_put = tf.nn.max_pool2d(r_out, ksize=2, strides=2, padding='VALID')\n",
        "    f_out = tf.reshape(p_out, [x.shape[0], -1])\n",
        "    z1 = tf.matmul(f_out, self.w1) + self.b1\n",
        "    a1 = tf.nn.relu(z1)\n",
        "    z2 = tf.matmul(a1,self.w2) + self.b2\n",
        "    return z2\n",
        "\n",
        "  def init_weights(self, input_shape, n_classes):\n",
        "    g = tf.initializers.glorot_uniform()\n",
        "    self.conv_w = tf.Variable(g((3,3,1, self.n_kernels)))\n",
        "    self.conv_b = tf.Variable(np.zeros(self.n_kernels), dtype=float)\n",
        "    n_features = 14 * 14 * self.n_kernels\n",
        "    self.w1 = tf.Variable(g((n_features, self.units)))\n",
        "    self.b1 = tf.Variable(np.zeros(self.units), dtype=float)\n",
        "    self.w2 = tf.Variable(g((self.units, n_classes)))\n",
        "    self.b2 = tf.Variable(np.zeros(n_classes), dtype=float)\n",
        "\n",
        "  def fit(self,x,y,epochs=100, x_val=None, y_val=None):\n",
        "    self.init_weights(x.shape,y.shape[1])\n",
        "    self.optimizer = tf.optimizers.SGD(learning_rate=self.lr)\n",
        "    for i in range(epochs):\n",
        "      print('에포크',i,end=' ')\n",
        "      batch_losses = []\n",
        "      for x_batch, y_batch in self.gen_batch(x,y):\n",
        "        print('.',end = '')\n",
        "        self.training(x_batch,y_batch)\n",
        "        batch_losses.append(self.get_loss(x_batch, y_batch))\n",
        "      print()\n",
        "      self.losses.appen(np.mean(batch_losses))\n",
        "      self.val_losses.append(self.get_loss(x_val,y_val))\n",
        "\n",
        "    # 미니배치 제너레이터 함수\n",
        "  def gen_batch(self, x, y):\n",
        "    length = len(x)\n",
        "    bins = length // self.batch_size # 미니배치 횟수\n",
        "    if length % self.batch_size:\n",
        "      bins += 1                    # 나누어 떨어지지 않을 때\n",
        "    indexes = np.random.permutation(np.arange(len(x))) # 인덱스를 섞습니다.\n",
        "    x = x[indexes]\n",
        "    y = y[indexes]\n",
        "    for i in range(bins):\n",
        "      start = self.batch_size * i\n",
        "      end = self.batch_size * (i + 1)\n",
        "      yield x[start:end], y[start:end]   # batch_size만큼 슬라이싱하여 반환합니다.\n",
        "                    \n",
        "  def training(self,x,y):\n",
        "    m = len(x)\n",
        "    with tf.GradientTape() as tape:\n",
        "      z = self.forpass(x)\n",
        "      loss = tf.nn.softmax_cross_entropy_with_logits(y,z)\n",
        "      loss = tf.reduce_mean(loss)\n",
        "\n",
        "    weights_list = [self.conv_w, self.conv_b,\n",
        "                    self.w1, self.b1, self.w2, self.b2]\n",
        "\n",
        "    grads = tape.gradient(loss, weights_list)\n",
        "    self.optimizer.apply_gradient(zip(grads, weights_list))\n",
        "\n",
        "  def predict(self,x):\n",
        "    z = self.forpass(x)\n",
        "    return np.argmax(z.numpy(), axis=1)\n",
        "\n",
        "  def score(self,x,y):\n",
        "    return np.mean(self.predict(x) == np.argmax(y, axis=1))\n",
        "\n",
        "  def get_loss(self,x,y):\n",
        "    z = self.forpass(x)\n",
        "    loss = tf.reduce_mean(tf.nn.softmax_cross_entropy_with_logits(y,z))\n",
        "    return loss.numpy()"
      ],
      "metadata": {
        "id": "BRdmflWmsVTw"
      },
      "execution_count": 50,
      "outputs": []
    },
    {
      "cell_type": "code",
      "source": [
        "import tensorflow as tf\n",
        "\n",
        "class ConvolutionNetwork:\n",
        "    \n",
        "    def __init__(self, n_kernels=10, units=10, batch_size=32, learning_rate=0.1):\n",
        "        self.n_kernels = n_kernels  # 합성곱의 커널 개수\n",
        "        self.kernel_size = 3        # 커널 크기\n",
        "        self.optimizer = None       # 옵티마이저\n",
        "        self.conv_w = None          # 합성곱 층의 가중치\n",
        "        self.conv_b = None          # 합성곱 층의 절편\n",
        "        self.units = units          # 은닉층의 뉴런 개수\n",
        "        self.batch_size = batch_size  # 배치 크기\n",
        "        self.w1 = None              # 은닉층의 가중치\n",
        "        self.b1 = None              # 은닉층의 절편\n",
        "        self.w2 = None              # 출력층의 가중치\n",
        "        self.b2 = None              # 출력층의 절편\n",
        "        self.a1 = None              # 은닉층의 활성화 출력\n",
        "        self.losses = []            # 훈련 손실\n",
        "        self.val_losses = []        # 검증 손실\n",
        "        self.lr = learning_rate     # 학습률\n",
        "\n",
        "    def forpass(self, x):\n",
        "        # 3x3 합성곱 연산을 수행합니다.\n",
        "        c_out = tf.nn.conv2d(x, self.conv_w, strides=1, padding='SAME') + self.conv_b\n",
        "        # 렐루 활성화 함수를 적용합니다.\n",
        "        r_out = tf.nn.relu(c_out)\n",
        "        # 2x2 최대 풀링을 적용합니다.\n",
        "        p_out = tf.nn.max_pool2d(r_out, ksize=2, strides=2, padding='VALID')\n",
        "        # 첫 번째 배치 차원을 제외하고 출력을 일렬로 펼칩니다.\n",
        "        f_out = tf.reshape(p_out, [x.shape[0], -1])\n",
        "        z1 = tf.matmul(f_out, self.w1) + self.b1     # 첫 번째 층의 선형 식을 계산합니다\n",
        "        a1 = tf.nn.relu(z1)                          # 활성화 함수를 적용합니다\n",
        "        z2 = tf.matmul(a1, self.w2) + self.b2        # 두 번째 층의 선형 식을 계산합니다.\n",
        "        return z2\n",
        "    \n",
        "    def init_weights(self, input_shape, n_classes):\n",
        "        g = tf.initializers.glorot_uniform()\n",
        "        self.conv_w = tf.Variable(g((3, 3, 1, self.n_kernels)))\n",
        "        self.conv_b = tf.Variable(np.zeros(self.n_kernels), dtype=float)\n",
        "        n_features = 14 * 14 * self.n_kernels\n",
        "        self.w1 = tf.Variable(g((n_features, self.units)))          # (특성 개수, 은닉층의 크기)\n",
        "        self.b1 = tf.Variable(np.zeros(self.units), dtype=float)    # 은닉층의 크기\n",
        "        self.w2 = tf.Variable(g((self.units, n_classes)))           # (은닉층의 크기, 클래스 개수)\n",
        "        self.b2 = tf.Variable(np.zeros(n_classes), dtype=float)     # 클래스 개수\n",
        "        \n",
        "    def fit(self, x, y, epochs=100, x_val=None, y_val=None):\n",
        "        self.init_weights(x.shape, y.shape[1])    # 은닉층과 출력층의 가중치를 초기화합니다.\n",
        "        self.optimizer = tf.optimizers.SGD(learning_rate=self.lr)\n",
        "        # epochs만큼 반복합니다.\n",
        "        for i in range(epochs):\n",
        "            print('에포크', i, end=' ')\n",
        "            # 제너레이터 함수에서 반환한 미니배치를 순환합니다.\n",
        "            batch_losses = []\n",
        "            for x_batch, y_batch in self.gen_batch(x, y):\n",
        "                print('.', end='')\n",
        "                self.training(x_batch, y_batch)\n",
        "                # 배치 손실을 기록합니다.\n",
        "                batch_losses.append(self.get_loss(x_batch, y_batch))\n",
        "            print()\n",
        "            # 배치 손실 평균내어 훈련 손실 값으로 저장합니다.\n",
        "            self.losses.append(np.mean(batch_losses))\n",
        "            # 검증 세트에 대한 손실을 계산합니다.\n",
        "            self.val_losses.append(self.get_loss(x_val, y_val))\n",
        "\n",
        "    # 미니배치 제너레이터 함수\n",
        "    def gen_batch(self, x, y):\n",
        "        bins = len(x) // self.batch_size                   # 미니배치 횟수\n",
        "        indexes = np.random.permutation(np.arange(len(x))) # 인덱스를 섞습니다.\n",
        "        x = x[indexes]\n",
        "        y = y[indexes]\n",
        "        for i in range(bins):\n",
        "            start = self.batch_size * i\n",
        "            end = self.batch_size * (i + 1)\n",
        "            yield x[start:end], y[start:end]   # batch_size만큼 슬라이싱하여 반환합니다.\n",
        "            \n",
        "    def training(self, x, y):\n",
        "        m = len(x)                    # 샘플 개수를 저장합니다.\n",
        "        with tf.GradientTape() as tape:\n",
        "            z = self.forpass(x)       # 정방향 계산을 수행합니다.\n",
        "            # 손실을 계산합니다.\n",
        "            loss = tf.nn.softmax_cross_entropy_with_logits(y, z)\n",
        "            loss = tf.reduce_mean(loss)\n",
        "\n",
        "        weights_list = [self.conv_w, self.conv_b,\n",
        "                        self.w1, self.b1, self.w2, self.b2]\n",
        "        # 가중치에 대한 그래디언트를 계산합니다.\n",
        "        grads = tape.gradient(loss, weights_list)\n",
        "        # 가중치를 업데이트합니다.\n",
        "        self.optimizer.apply_gradients(zip(grads, weights_list))\n",
        "   \n",
        "    def predict(self, x):\n",
        "        z = self.forpass(x)                 # 정방향 계산을 수행합니다.\n",
        "        return np.argmax(z.numpy(), axis=1) # 가장 큰 값의 인덱스를 반환합니다.\n",
        "    \n",
        "    def score(self, x, y):\n",
        "        # 예측과 타깃 열 벡터를 비교하여 True의 비율을 반환합니다.\n",
        "        return np.mean(self.predict(x) == np.argmax(y, axis=1))\n",
        "\n",
        "    def get_loss(self, x, y):\n",
        "        z = self.forpass(x)                 # 정방향 계산을 수행합니다.\n",
        "        # 손실을 계산하여 저장합니다.\n",
        "        loss = tf.reduce_mean(tf.nn.softmax_cross_entropy_with_logits(y, z))\n",
        "        return loss.numpy()"
      ],
      "metadata": {
        "id": "bnYCnEACA3lg"
      },
      "execution_count": 52,
      "outputs": []
    },
    {
      "cell_type": "code",
      "source": [
        "(x_train_all,y_train_all),(x_test,y_test) = tf.keras.datasets.fashion_mnist.load_data()"
      ],
      "metadata": {
        "colab": {
          "base_uri": "https://localhost:8080/"
        },
        "id": "_EHVTUvo-JwD",
        "outputId": "f7438029-5403-4110-9a77-05af5cefc249"
      },
      "execution_count": 31,
      "outputs": [
        {
          "output_type": "stream",
          "name": "stdout",
          "text": [
            "Downloading data from https://storage.googleapis.com/tensorflow/tf-keras-datasets/train-labels-idx1-ubyte.gz\n",
            "32768/29515 [=================================] - 0s 0us/step\n",
            "40960/29515 [=========================================] - 0s 0us/step\n",
            "Downloading data from https://storage.googleapis.com/tensorflow/tf-keras-datasets/train-images-idx3-ubyte.gz\n",
            "26427392/26421880 [==============================] - 0s 0us/step\n",
            "26435584/26421880 [==============================] - 0s 0us/step\n",
            "Downloading data from https://storage.googleapis.com/tensorflow/tf-keras-datasets/t10k-labels-idx1-ubyte.gz\n",
            "16384/5148 [===============================================================================================] - 0s 0us/step\n",
            "Downloading data from https://storage.googleapis.com/tensorflow/tf-keras-datasets/t10k-images-idx3-ubyte.gz\n",
            "4423680/4422102 [==============================] - 0s 0us/step\n",
            "4431872/4422102 [==============================] - 0s 0us/step\n"
          ]
        }
      ]
    },
    {
      "cell_type": "code",
      "source": [
        "from sklearn.model_selection import train_test_split\n",
        "x_train,x_val,y_train,y_val = train_test_split(x_train_all, y_train_all,\n",
        "                                               stratify=y_train_all, test_size=0.2,\n",
        "                                               random_state=42)"
      ],
      "metadata": {
        "id": "Lv92Ca62-Uy4"
      },
      "execution_count": 32,
      "outputs": []
    },
    {
      "cell_type": "code",
      "source": [
        "y_train_encoded = tf.keras.utils.to_categorical(y_train)\n",
        "y_val_encoded = tf.keras.utils.to_categorical(y_val)"
      ],
      "metadata": {
        "id": "wB8QDTIr-n9b"
      },
      "execution_count": 33,
      "outputs": []
    },
    {
      "cell_type": "code",
      "source": [
        "x_train = x_train.reshape(-1,28,28,1)\n",
        "x_val = x_val.reshape(-1,28,28,1)"
      ],
      "metadata": {
        "id": "HCf7QoRG-zCi"
      },
      "execution_count": 34,
      "outputs": []
    },
    {
      "cell_type": "code",
      "source": [
        "x_train.shape"
      ],
      "metadata": {
        "colab": {
          "base_uri": "https://localhost:8080/"
        },
        "id": "mk2Vmx5x-7_J",
        "outputId": "9a8bf440-22ca-4c7c-b9a4-65d816baae0c"
      },
      "execution_count": 35,
      "outputs": [
        {
          "output_type": "execute_result",
          "data": {
            "text/plain": [
              "(48000, 28, 28, 1)"
            ]
          },
          "metadata": {},
          "execution_count": 35
        }
      ]
    },
    {
      "cell_type": "code",
      "source": [
        "x_train = x_train /255\n",
        "x_val = x_val / 255"
      ],
      "metadata": {
        "id": "gfnTS4E0--vm"
      },
      "execution_count": 36,
      "outputs": []
    },
    {
      "cell_type": "code",
      "source": [
        "cn = ConvolutionNetwork(n_kernels=10, units=100, batch_size=128, learning_rate=0.01)\n",
        "cn.fit(x_train,y_train_encoded, x_val=x_val, y_val=y_val_encoded, epochs=20)"
      ],
      "metadata": {
        "colab": {
          "base_uri": "https://localhost:8080/"
        },
        "id": "lhE5onv1_HU9",
        "outputId": "8614a741-235e-421a-b65a-1e6de3ccd9ee"
      },
      "execution_count": 53,
      "outputs": [
        {
          "output_type": "stream",
          "name": "stdout",
          "text": [
            "에포크 0 .......................................................................................................................................................................................................................................................................................................................................................................................\n",
            "에포크 1 .......................................................................................................................................................................................................................................................................................................................................................................................\n",
            "에포크 2 .......................................................................................................................................................................................................................................................................................................................................................................................\n",
            "에포크 3 .......................................................................................................................................................................................................................................................................................................................................................................................\n",
            "에포크 4 .......................................................................................................................................................................................................................................................................................................................................................................................\n",
            "에포크 5 .......................................................................................................................................................................................................................................................................................................................................................................................\n",
            "에포크 6 .......................................................................................................................................................................................................................................................................................................................................................................................\n",
            "에포크 7 .......................................................................................................................................................................................................................................................................................................................................................................................\n",
            "에포크 8 .......................................................................................................................................................................................................................................................................................................................................................................................\n",
            "에포크 9 .......................................................................................................................................................................................................................................................................................................................................................................................\n",
            "에포크 10 .......................................................................................................................................................................................................................................................................................................................................................................................\n",
            "에포크 11 .......................................................................................................................................................................................................................................................................................................................................................................................\n",
            "에포크 12 .......................................................................................................................................................................................................................................................................................................................................................................................\n",
            "에포크 13 .......................................................................................................................................................................................................................................................................................................................................................................................\n",
            "에포크 14 .......................................................................................................................................................................................................................................................................................................................................................................................\n",
            "에포크 15 .......................................................................................................................................................................................................................................................................................................................................................................................\n",
            "에포크 16 .......................................................................................................................................................................................................................................................................................................................................................................................\n",
            "에포크 17 .......................................................................................................................................................................................................................................................................................................................................................................................\n",
            "에포크 18 .......................................................................................................................................................................................................................................................................................................................................................................................\n",
            "에포크 19 .......................................................................................................................................................................................................................................................................................................................................................................................\n"
          ]
        }
      ]
    },
    {
      "cell_type": "code",
      "source": [
        "import matplotlib.pyplot as plt\n",
        "\n",
        "plt.plot(cn.losses)\n",
        "plt.plot(cn.val_losses)\n",
        "plt.ylabel('loss')\n",
        "plt.xlabel('iteration')\n",
        "plt.legend(['train_loss','val_loss'])\n",
        "plt.show()"
      ],
      "metadata": {
        "colab": {
          "base_uri": "https://localhost:8080/",
          "height": 279
        },
        "id": "EY6G3_qNBsv7",
        "outputId": "21c90510-5d0e-44b9-96da-17b80c2e6b23"
      },
      "execution_count": 55,
      "outputs": [
        {
          "output_type": "display_data",
          "data": {
            "text/plain": [
              "<Figure size 432x288 with 1 Axes>"
            ],
            "image/png": "[encoded data removed]"
          },
          "metadata": {
            "needs_background": "light"
          }
        }
      ]
    },
    {
      "cell_type": "code",
      "source": [
        "cn.score(x_val,y_val_encoded)"
      ],
      "metadata": {
        "colab": {
          "base_uri": "https://localhost:8080/"
        },
        "id": "q0GfZPhqCJHs",
        "outputId": "653f814d-ae57-4602-ff53-51b951e70589"
      },
      "execution_count": 56,
      "outputs": [
        {
          "output_type": "execute_result",
          "data": {
            "text/plain": [
              "0.8776666666666667"
            ]
          },
          "metadata": {},
          "execution_count": 56
        }
      ]
    },
    {
      "cell_type": "code",
      "source": [
        "from tensorflow.keras.layers import Conv2D, MaxPooling2D, Flatten, Dense"
      ],
      "metadata": {
        "id": "EhIrAUYjCs2o"
      },
      "execution_count": 58,
      "outputs": []
    },
    {
      "cell_type": "code",
      "source": [
        "conv1 = tf.keras.Sequential()\n",
        "conv1.add(Conv2D(10,(3,3), activation='relu', padding='same', input_shape=(28,28,1)))\n",
        "conv1.add(MaxPooling2D((2,2)))\n",
        "conv1.add(Flatten())\n",
        "conv1.add(Dense(100,activation='relu'))\n",
        "conv1.add(Dense(10,activation='softmax'))"
      ],
      "metadata": {
        "id": "wVrwaMR7C4UP"
      },
      "execution_count": 59,
      "outputs": []
    },
    {
      "cell_type": "code",
      "source": [
        "conv1.summary()"
      ],
      "metadata": {
        "colab": {
          "base_uri": "https://localhost:8080/"
        },
        "id": "FquKQs6ZDKd8",
        "outputId": "7ed85ad6-919b-4959-8283-ae81ff9bfc55"
      },
      "execution_count": 60,
      "outputs": [
        {
          "output_type": "stream",
          "name": "stdout",
          "text": [
            "Model: \"sequential\"\n",
            "_________________________________________________________________\n",
            " Layer (type)                Output Shape              Param #   \n",
            "=================================================================\n",
            " conv2d (Conv2D)             (None, 28, 28, 10)        100       \n",
            "                                                                 \n",
            " max_pooling2d (MaxPooling2D  (None, 14, 14, 10)       0         \n",
            " )                                                               \n",
            "                                                                 \n",
            " flatten (Flatten)           (None, 1960)              0         \n",
            "                                                                 \n",
            " dense (Dense)               (None, 100)               196100    \n",
            "                                                                 \n",
            " dense_1 (Dense)             (None, 10)                1010      \n",
            "                                                                 \n",
            "=================================================================\n",
            "Total params: 197,210\n",
            "Trainable params: 197,210\n",
            "Non-trainable params: 0\n",
            "_________________________________________________________________\n"
          ]
        }
      ]
    },
    {
      "cell_type": "code",
      "source": [
        "conv1.compile(optimizer='adam', loss='categorical_crossentropy', metrics=['accuracy'])"
      ],
      "metadata": {
        "id": "qhd7ExWjDnF2"
      },
      "execution_count": 64,
      "outputs": []
    },
    {
      "cell_type": "code",
      "source": [
        "history = conv1.fit(x_train,y_train_encoded,epochs=20,validation_data=(x_val,y_val_encoded))"
      ],
      "metadata": {
        "colab": {
          "base_uri": "https://localhost:8080/"
        },
        "id": "zEgtcfuNEJvW",
        "outputId": "76b4e972-2a93-4cbc-9083-b139faa30c12"
      },
      "execution_count": 65,
      "outputs": [
        {
          "output_type": "stream",
          "name": "stdout",
          "text": [
            "Epoch 1/20\n",
            "1500/1500 [==============================] - 35s 23ms/step - loss: 0.4510 - accuracy: 0.8418 - val_loss: 0.3345 - val_accuracy: 0.8826\n",
            "Epoch 2/20\n",
            "1500/1500 [==============================] - 38s 26ms/step - loss: 0.3107 - accuracy: 0.8885 - val_loss: 0.2940 - val_accuracy: 0.8943\n",
            "Epoch 3/20\n",
            "1500/1500 [==============================] - 34s 23ms/step - loss: 0.2618 - accuracy: 0.9056 - val_loss: 0.2911 - val_accuracy: 0.8977\n",
            "Epoch 4/20\n",
            "1500/1500 [==============================] - 22s 15ms/step - loss: 0.2300 - accuracy: 0.9157 - val_loss: 0.2564 - val_accuracy: 0.9087\n",
            "Epoch 5/20\n",
            "1500/1500 [==============================] - 25s 17ms/step - loss: 0.2046 - accuracy: 0.9250 - val_loss: 0.2530 - val_accuracy: 0.9128\n",
            "Epoch 6/20\n",
            "1500/1500 [==============================] - 22s 15ms/step - loss: 0.1832 - accuracy: 0.9320 - val_loss: 0.2620 - val_accuracy: 0.9089\n",
            "Epoch 7/20\n",
            "1500/1500 [==============================] - 24s 16ms/step - loss: 0.1651 - accuracy: 0.9386 - val_loss: 0.2429 - val_accuracy: 0.9168\n",
            "Epoch 8/20\n",
            "1500/1500 [==============================] - 24s 16ms/step - loss: 0.1462 - accuracy: 0.9460 - val_loss: 0.2522 - val_accuracy: 0.9166\n",
            "Epoch 9/20\n",
            "1500/1500 [==============================] - 40s 26ms/step - loss: 0.1333 - accuracy: 0.9503 - val_loss: 0.2861 - val_accuracy: 0.9106\n",
            "Epoch 10/20\n",
            "1500/1500 [==============================] - 36s 24ms/step - loss: 0.1196 - accuracy: 0.9553 - val_loss: 0.2826 - val_accuracy: 0.9141\n",
            "Epoch 11/20\n",
            "1500/1500 [==============================] - 35s 24ms/step - loss: 0.1051 - accuracy: 0.9616 - val_loss: 0.2821 - val_accuracy: 0.9189\n",
            "Epoch 12/20\n",
            "1500/1500 [==============================] - 40s 27ms/step - loss: 0.0972 - accuracy: 0.9644 - val_loss: 0.2919 - val_accuracy: 0.9169\n",
            "Epoch 13/20\n",
            "1500/1500 [==============================] - 34s 22ms/step - loss: 0.0862 - accuracy: 0.9686 - val_loss: 0.3083 - val_accuracy: 0.9168\n",
            "Epoch 14/20\n",
            "1500/1500 [==============================] - 32s 21ms/step - loss: 0.0777 - accuracy: 0.9718 - val_loss: 0.3286 - val_accuracy: 0.9147\n",
            "Epoch 15/20\n",
            "1500/1500 [==============================] - 27s 18ms/step - loss: 0.0700 - accuracy: 0.9750 - val_loss: 0.3287 - val_accuracy: 0.9194\n",
            "Epoch 16/20\n",
            "1500/1500 [==============================] - 28s 18ms/step - loss: 0.0627 - accuracy: 0.9768 - val_loss: 0.3508 - val_accuracy: 0.9147\n",
            "Epoch 17/20\n",
            "1500/1500 [==============================] - 28s 19ms/step - loss: 0.0554 - accuracy: 0.9804 - val_loss: 0.3585 - val_accuracy: 0.9162\n",
            "Epoch 18/20\n",
            "1500/1500 [==============================] - 27s 18ms/step - loss: 0.0516 - accuracy: 0.9818 - val_loss: 0.3853 - val_accuracy: 0.9110\n",
            "Epoch 19/20\n",
            "1500/1500 [==============================] - 27s 18ms/step - loss: 0.0442 - accuracy: 0.9844 - val_loss: 0.3985 - val_accuracy: 0.9151\n",
            "Epoch 20/20\n",
            "1500/1500 [==============================] - 27s 18ms/step - loss: 0.0409 - accuracy: 0.9858 - val_loss: 0.4042 - val_accuracy: 0.9153\n"
          ]
        }
      ]
    },
    {
      "cell_type": "code",
      "source": [
        "plt.plot(history.history['loss'])\n",
        "plt.plot(history.history['val_loss'])\n",
        "plt.ylabel('loss')\n",
        "plt.xlabel('epoch')\n",
        "plt.legend(['train_loss','val_loss'])\n",
        "plt.show()"
      ],
      "metadata": {
        "colab": {
          "base_uri": "https://localhost:8080/",
          "height": 279
        },
        "id": "QrAQpQilEraj",
        "outputId": "dc99675f-4d66-4a43-8174-78e3f3efe6f8"
      },
      "execution_count": 66,
      "outputs": [
        {
          "output_type": "display_data",
          "data": {
            "text/plain": [
              "<Figure size 432x288 with 1 Axes>"
            ],
            "image/png": "[encoded data removed]"
          },
          "metadata": {
            "needs_background": "light"
          }
        }
      ]
    },
    {
      "cell_type": "code",
      "source": [
        "plt.plot(history.history['accuracy'])\n",
        "plt.plot(history.history['val_accuracy'])\n",
        "plt.ylabel('loss')\n",
        "plt.xlabel('epoch')\n",
        "plt.legend(['train_loss','val_loss'])\n",
        "plt.show()"
      ],
      "metadata": {
        "colab": {
          "base_uri": "https://localhost:8080/",
          "height": 279
        },
        "id": "yT19ZBAUE8l7",
        "outputId": "e7a551a1-965f-40b3-840b-104ffe8bba5b"
      },
      "execution_count": 67,
      "outputs": [
        {
          "output_type": "display_data",
          "data": {
            "text/plain": [
              "<Figure size 432x288 with 1 Axes>"
            ],
            "image/png": "[encoded data removed]"
          },
          "metadata": {
            "needs_background": "light"
          }
        }
      ]
    },
    {
      "cell_type": "code",
      "source": [
        "from tensorflow.keras.layers import Dropout\n",
        "\n",
        "conv2 = tf.keras.Sequential()\n",
        "conv2.add(Conv2D(10,(3,3), activation='relu', padding='same', input_shape=(28,28,1)))\n",
        "conv2.add(MaxPooling2D((2,2)))\n",
        "conv2.add(Flatten())\n",
        "conv2.add(Dropout(0.5))\n",
        "conv2.add(Dense(100,activation='relu'))\n",
        "conv2.add(Dense(10,activation='softmax'))\n",
        "conv2.compile(optimizer='adam', loss='categorical_crossentropy',metrics=['accuracy'])"
      ],
      "metadata": {
        "id": "eRRJ779-FY2F"
      },
      "execution_count": 71,
      "outputs": []
    },
    {
      "cell_type": "code",
      "source": [
        "history = conv2.fit(x_train,y_train_encoded,epochs=20,validation_data=(x_val,y_val_encoded))"
      ],
      "metadata": {
        "colab": {
          "base_uri": "https://localhost:8080/"
        },
        "id": "1C2S5gKzFzqY",
        "outputId": "625f45e9-10b2-4db6-de41-c175102e2315"
      },
      "execution_count": null,
      "outputs": [
        {
          "output_type": "stream",
          "name": "stdout",
          "text": [
            "Epoch 1/20\n",
            "1500/1500 [==============================] - 39s 25ms/step - loss: 0.5335 - accuracy: 0.8061 - val_loss: 0.3768 - val_accuracy: 0.8671\n",
            "Epoch 2/20\n",
            "1500/1500 [==============================] - 34s 23ms/step - loss: 0.3901 - accuracy: 0.8586 - val_loss: 0.3161 - val_accuracy: 0.8860\n",
            "Epoch 3/20\n",
            "1500/1500 [==============================] - 37s 25ms/step - loss: 0.3451 - accuracy: 0.8736 - val_loss: 0.3049 - val_accuracy: 0.8895\n",
            "Epoch 4/20\n",
            "1500/1500 [==============================] - 32s 22ms/step - loss: 0.3134 - accuracy: 0.8852 - val_loss: 0.2796 - val_accuracy: 0.8974\n",
            "Epoch 5/20\n",
            "1500/1500 [==============================] - 39s 26ms/step - loss: 0.2936 - accuracy: 0.8932 - val_loss: 0.2711 - val_accuracy: 0.9030\n",
            "Epoch 6/20\n",
            "1500/1500 [==============================] - 36s 24ms/step - loss: 0.2801 - accuracy: 0.8954 - val_loss: 0.2645 - val_accuracy: 0.9038\n",
            "Epoch 7/20\n",
            "1500/1500 [==============================] - 36s 24ms/step - loss: 0.2639 - accuracy: 0.9006 - val_loss: 0.2485 - val_accuracy: 0.9113\n",
            "Epoch 8/20\n",
            "1500/1500 [==============================] - 38s 25ms/step - loss: 0.2532 - accuracy: 0.9040 - val_loss: 0.2414 - val_accuracy: 0.9129\n",
            "Epoch 9/20\n",
            "1500/1500 [==============================] - 33s 22ms/step - loss: 0.2420 - accuracy: 0.9089 - val_loss: 0.2387 - val_accuracy: 0.9147\n",
            "Epoch 10/20\n",
            "1500/1500 [==============================] - 38s 25ms/step - loss: 0.2342 - accuracy: 0.9114 - val_loss: 0.2406 - val_accuracy: 0.9136\n",
            "Epoch 11/20\n",
            "1500/1500 [==============================] - 35s 23ms/step - loss: 0.2279 - accuracy: 0.9141 - val_loss: 0.2351 - val_accuracy: 0.9153\n",
            "Epoch 12/20\n",
            "1500/1500 [==============================] - 31s 21ms/step - loss: 0.2197 - accuracy: 0.9177 - val_loss: 0.2320 - val_accuracy: 0.9187\n",
            "Epoch 13/20\n",
            "1500/1500 [==============================] - 34s 23ms/step - loss: 0.2112 - accuracy: 0.9211 - val_loss: 0.2301 - val_accuracy: 0.9183\n",
            "Epoch 14/20\n",
            "1500/1500 [==============================] - 33s 22ms/step - loss: 0.2104 - accuracy: 0.9216 - val_loss: 0.2314 - val_accuracy: 0.9185\n",
            "Epoch 15/20\n",
            "1500/1500 [==============================] - 34s 23ms/step - loss: 0.2043 - accuracy: 0.9231 - val_loss: 0.2332 - val_accuracy: 0.9175\n",
            "Epoch 16/20\n",
            "1500/1500 [==============================] - 32s 22ms/step - loss: 0.1993 - accuracy: 0.9242 - val_loss: 0.2282 - val_accuracy: 0.9177\n",
            "Epoch 17/20\n",
            "1500/1500 [==============================] - 33s 22ms/step - loss: 0.1937 - accuracy: 0.9276 - val_loss: 0.2342 - val_accuracy: 0.9186\n",
            "Epoch 18/20\n",
            "1500/1500 [==============================] - 34s 23ms/step - loss: 0.1905 - accuracy: 0.9279 - val_loss: 0.2379 - val_accuracy: 0.9153\n",
            "Epoch 19/20\n",
            "1500/1500 [==============================] - 33s 22ms/step - loss: 0.1876 - accuracy: 0.9291 - val_loss: 0.2465 - val_accuracy: 0.9128\n",
            "Epoch 20/20\n",
            " 567/1500 [==========>...................] - ETA: 20s - loss: 0.1816 - accuracy: 0.9292"
          ]
        }
      ]
    },
    {
      "cell_type": "code",
      "source": [
        "plt.plot(history.history['loss'])\n",
        "plt.plot(history.history['val_loss'])\n",
        "plt.ylabel('loss')\n",
        "plt.xlabel('epoch')\n",
        "plt.legend(['train_loss','val_loss'])\n",
        "plt.show()"
      ],
      "metadata": {
        "colab": {
          "base_uri": "https://localhost:8080/",
          "height": 283
        },
        "id": "fGxTb7QTGP7J",
        "outputId": "4cb7181e-6250-464a-fa16-b326d982974f"
      },
      "execution_count": 75,
      "outputs": [
        {
          "output_type": "display_data",
          "data": {
            "text/plain": [
              "<Figure size 432x288 with 1 Axes>"
            ],
            "image/png": "[encoded data removed]"
          },
          "metadata": {
            "needs_background": "light"
          }
        }
      ]
    },
    {
      "cell_type": "code",
      "source": [
        "plt.plot(history.history['accuracy'])\n",
        "plt.plot(history.history['val_accuracy'])\n",
        "plt.ylabel('loss')\n",
        "plt.xlabel('epoch')\n",
        "plt.legend(['train_loss','val_loss'])\n",
        "plt.show()"
      ],
      "metadata": {
        "colab": {
          "base_uri": "https://localhost:8080/",
          "height": 279
        },
        "id": "1FdIb3uNGSYi",
        "outputId": "ba40f0a8-7a19-4a68-fd35-89eed10fc50e"
      },
      "execution_count": 76,
      "outputs": [
        {
          "output_type": "display_data",
          "data": {
            "text/plain": [
              "<Figure size 432x288 with 1 Axes>"
            ],
            "image/png": "[encoded data removed]"
          },
          "metadata": {
            "needs_background": "light"
          }
        }
      ]
    }
  ]
}