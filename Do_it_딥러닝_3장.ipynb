{
  "nbformat": 4,
  "nbformat_minor": 0,
  "metadata": {
    "colab": {
      "name": "Do it 딥러닝 3장.ipynb",
      "provenance": [],
      "authorship_tag": "ABX9TyPfvY4WzUwcgga5UXHztW7k",
      "include_colab_link": true
    },
    "kernelspec": {
      "name": "python3",
      "display_name": "Python 3"
    },
    "language_info": {
      "name": "python"
    }
  },
  "cells": [
    {
      "cell_type": "markdown",
      "metadata": {
        "id": "view-in-github",
        "colab_type": "text"
      },
      "source": [
        "<a href=\"https://colab.research.google.com/github/rlackdrhkd/Do-it-deep-learning/blob/main/Do_it_%EB%94%A5%EB%9F%AC%EB%8B%9D_3%EC%9E%A5.ipynb\" target=\"_parent\"><img src=\"https://colab.research.google.com/assets/colab-badge.svg\" alt=\"Open In Colab\"/></a>"
      ]
    },
    {
      "cell_type": "code",
      "execution_count": null,
      "metadata": {
        "id": "dDhyIMD-s7su"
      },
      "outputs": [],
      "source": [
        "from sklearn.datasets import load_diabetes #당뇨병 데이터 가져오기\n",
        "diabetes = load_diabetes()"
      ]
    },
    {
      "cell_type": "code",
      "source": [
        "print(diabetes.data.shape,diabetes.target.shape) #입력 데이터와 타깃 데이터의 크기 확인"
      ],
      "metadata": {
        "colab": {
          "base_uri": "https://localhost:8080/"
        },
        "id": "ooZVsoNItiVa",
        "outputId": "91b0bcf9-6dbc-4b53-bad1-ab0121682ff6"
      },
      "execution_count": null,
      "outputs": [
        {
          "output_type": "stream",
          "name": "stdout",
          "text": [
            "(442, 10) (442,)\n"
          ]
        }
      ]
    },
    {
      "cell_type": "code",
      "source": [
        "diabetes.data[0:3] #입력 데이터 자세히 보기"
      ],
      "metadata": {
        "colab": {
          "base_uri": "https://localhost:8080/"
        },
        "id": "5kqoA5t8t0RW",
        "outputId": "eedb11ac-2f09-429b-ae07-27d507f9efaa"
      },
      "execution_count": null,
      "outputs": [
        {
          "output_type": "execute_result",
          "data": {
            "text/plain": [
              "array([[ 0.03807591,  0.05068012,  0.06169621,  0.02187235, -0.0442235 ,\n",
              "        -0.03482076, -0.04340085, -0.00259226,  0.01990842, -0.01764613],\n",
              "       [-0.00188202, -0.04464164, -0.05147406, -0.02632783, -0.00844872,\n",
              "        -0.01916334,  0.07441156, -0.03949338, -0.06832974, -0.09220405],\n",
              "       [ 0.08529891,  0.05068012,  0.04445121, -0.00567061, -0.04559945,\n",
              "        -0.03419447, -0.03235593, -0.00259226,  0.00286377, -0.02593034]])"
            ]
          },
          "metadata": {},
          "execution_count": 5
        }
      ]
    },
    {
      "cell_type": "code",
      "source": [
        "diabetes.target[:3] #타겟 데이터 자세히 보기"
      ],
      "metadata": {
        "colab": {
          "base_uri": "https://localhost:8080/"
        },
        "id": "Wk8-2mYHuK8O",
        "outputId": "9e370784-5b0a-45c4-9ce8-bd13087174fc"
      },
      "execution_count": null,
      "outputs": [
        {
          "output_type": "execute_result",
          "data": {
            "text/plain": [
              "array([151.,  75., 141.])"
            ]
          },
          "metadata": {},
          "execution_count": 6
        }
      ]
    },
    {
      "cell_type": "code",
      "source": [
        "import matplotlib.pyplot as plt #당뇨병 환자 데이터 시각화하기\n",
        "plt.scatter(diabetes.data[:,2], diabetes.target)\n",
        "plt.xlabel(\"x\")\n",
        "plt.ylabel(\"y\")\n",
        "plt.show"
      ],
      "metadata": {
        "colab": {
          "base_uri": "https://localhost:8080/",
          "height": 295
        },
        "id": "09-KG6J5uS9I",
        "outputId": "2c82057d-3014-42da-a922-dd98e399743f"
      },
      "execution_count": null,
      "outputs": [
        {
          "output_type": "execute_result",
          "data": {
            "text/plain": [
              "<function matplotlib.pyplot.show(*args, **kw)>"
            ]
          },
          "metadata": {},
          "execution_count": 7
        },
        {
          "output_type": "display_data",
          "data": {
            "text/plain": [
              "<Figure size 432x288 with 1 Axes>"
            ],
            "image/png": "[encoded data removed]"
          },
          "metadata": {
            "needs_background": "light"
          }
        }
      ]
    },
    {
      "cell_type": "code",
      "source": [
        "x = diabetes.data[:,2] #훈련 데이터 준비하기\n",
        "y = diabetes.target"
      ],
      "metadata": {
        "id": "C1tTcgyeuxzb"
      },
      "execution_count": null,
      "outputs": []
    },
    {
      "cell_type": "code",
      "source": [
        "w = 1.0 #w와b 초기화하기\n",
        "b = 1.0"
      ],
      "metadata": {
        "id": "bF2hwvOCvH2H"
      },
      "execution_count": null,
      "outputs": []
    },
    {
      "cell_type": "code",
      "source": [
        "y_hat = x[0]*w + b #훈련데이터의 첫 번째 샘플 데이터로 y_hat얻기\n",
        "print(y_hat)"
      ],
      "metadata": {
        "colab": {
          "base_uri": "https://localhost:8080/"
        },
        "id": "kUnTi-9avypR",
        "outputId": "460e39a0-ed6d-48dc-c9ea-1e42a2e20664"
      },
      "execution_count": null,
      "outputs": [
        {
          "output_type": "stream",
          "name": "stdout",
          "text": [
            "1.0616962065186886\n"
          ]
        }
      ]
    },
    {
      "cell_type": "code",
      "source": [
        "print(y[0]) #타깃과 예측 데이터 비교하기"
      ],
      "metadata": {
        "colab": {
          "base_uri": "https://localhost:8080/"
        },
        "id": "e1rseGv1wEs4",
        "outputId": "cf0c8147-2a73-463d-b9cb-7a5abbf8fdf6"
      },
      "execution_count": null,
      "outputs": [
        {
          "output_type": "stream",
          "name": "stdout",
          "text": [
            "151.0\n"
          ]
        }
      ]
    },
    {
      "cell_type": "code",
      "source": [
        "w_inc = w + 0.1 #w값 조절해 예측값 바꾸기\n",
        "y_hat_inc = x[0]*w_inc + b\n",
        "print(y_hat_inc)"
      ],
      "metadata": {
        "colab": {
          "base_uri": "https://localhost:8080/"
        },
        "id": "KI7jFi7TwMzt",
        "outputId": "f9fadbdb-2ab5-4713-b2ab-aad9acf5dfb7"
      },
      "execution_count": null,
      "outputs": [
        {
          "output_type": "stream",
          "name": "stdout",
          "text": [
            "1.0678658271705574\n"
          ]
        }
      ]
    },
    {
      "cell_type": "code",
      "source": [
        "w_rate = (y_hat_inc - y_hat) / (w_inc - w) #w값 조정한 후 예측값 증가 정도 확인하기\n",
        "print(w_rate)"
      ],
      "metadata": {
        "colab": {
          "base_uri": "https://localhost:8080/"
        },
        "id": "1n42bR4pwpFP",
        "outputId": "0b79bd7e-5212-4e64-b8c9-77b98b9d5024"
      },
      "execution_count": null,
      "outputs": [
        {
          "output_type": "stream",
          "name": "stdout",
          "text": [
            "0.061696206518688734\n"
          ]
        }
      ]
    },
    {
      "cell_type": "code",
      "source": [
        "w_new = w + w_rate #변화율로 가중치 업데이트하기\n",
        "print(w_new)"
      ],
      "metadata": {
        "colab": {
          "base_uri": "https://localhost:8080/"
        },
        "id": "kNNo1mGaw1mx",
        "outputId": "b19f7e92-1f80-42f1-804a-965008d12b31"
      },
      "execution_count": null,
      "outputs": [
        {
          "output_type": "stream",
          "name": "stdout",
          "text": [
            "1.0616962065186888\n"
          ]
        }
      ]
    },
    {
      "cell_type": "code",
      "source": [
        "b_inc = b + 0.1 #변화율로 절편 업데이트하기\n",
        "y_hat_inc = x[0]*w + b_inc\n",
        "print(y_hat_inc)\n",
        "\n",
        "b_rate = (y_hat_inc - y_hat) / (b_inc - b)\n",
        "print(b_rate)"
      ],
      "metadata": {
        "colab": {
          "base_uri": "https://localhost:8080/"
        },
        "id": "ep_BP0I5xOq7",
        "outputId": "0690bbe8-7272-467e-b1e2-4b8336964728"
      },
      "execution_count": null,
      "outputs": [
        {
          "output_type": "stream",
          "name": "stdout",
          "text": [
            "1.1616962065186887\n",
            "1.0\n"
          ]
        }
      ]
    },
    {
      "cell_type": "code",
      "source": [
        "b_new = b + 1\n",
        "print(b_new)"
      ],
      "metadata": {
        "colab": {
          "base_uri": "https://localhost:8080/"
        },
        "id": "pp87oA2yxwWP",
        "outputId": "df002667-3116-44da-e1b4-423e6126e33f"
      },
      "execution_count": null,
      "outputs": [
        {
          "output_type": "stream",
          "name": "stdout",
          "text": [
            "2.0\n"
          ]
        }
      ]
    },
    {
      "cell_type": "code",
      "source": [
        "#오차 역전파로 가중치와 절편을 더 적절하게 업데이트합니다\n",
        "err = y[0] - y_hat #오차와 변화율을 곱하여 가중치 업데이트하기\n",
        "w_new = w + w_rate * err\n",
        "b_new = b + 1*err\n",
        "print(w_new,b_new)"
      ],
      "metadata": {
        "colab": {
          "base_uri": "https://localhost:8080/"
        },
        "id": "y5WdS9m8x8P1",
        "outputId": "68f5fb63-9982-4d9e-e336-4711b8c9879d"
      },
      "execution_count": null,
      "outputs": [
        {
          "output_type": "stream",
          "name": "stdout",
          "text": [
            "10.250624555904514 150.9383037934813\n"
          ]
        }
      ]
    },
    {
      "cell_type": "code",
      "source": [
        "y_hat = x[1]* w_new + b_new\n",
        "err = y[1] - y_hat\n",
        "w_rate = x[1]\n",
        "w_new = w_new + w_rate*err\n",
        "b_new = b_new + 1*err\n",
        "print(w_new,b_new)"
      ],
      "metadata": {
        "colab": {
          "base_uri": "https://localhost:8080/"
        },
        "id": "5hBWpkPZzXFy",
        "outputId": "0aca1b9a-ef83-4d43-b5e6-cefa6223cef4"
      },
      "execution_count": null,
      "outputs": [
        {
          "output_type": "stream",
          "name": "stdout",
          "text": [
            "14.132317616381767 75.52764127612664\n"
          ]
        }
      ]
    },
    {
      "cell_type": "code",
      "source": [
        "for x_i, y_i in zip(x,y): #Repeat all of sample\n",
        "  y_hat = x_i * w + b\n",
        "  err = y_i - y_hat\n",
        "  w_rate = x_i\n",
        "  w = w + w_rate * err\n",
        "  b = b + 1*err\n",
        "print(w,b)"
      ],
      "metadata": {
        "id": "fS9k7ILp1O4X"
      },
      "execution_count": null,
      "outputs": []
    },
    {
      "cell_type": "code",
      "source": [
        "plt.scatter(x,y) #Data Visualization\n",
        "pt1 = (-0.1,-0.1 * w + b)\n",
        "pt2 = (0.15,0.15 * w + b)\n",
        "plt.plot([pt1[0],pt2[0]],[pt1[1],pt2[1]])\n",
        "plt.xlabel('x')\n",
        "plt.ylabel('y')\n",
        "plt.show()"
      ],
      "metadata": {
        "colab": {
          "base_uri": "https://localhost:8080/",
          "height": 278
        },
        "id": "LF9ef_3L1Pon",
        "outputId": "95f6ad11-bcc9-4f0d-d348-4a8afb81be31"
      },
      "execution_count": null,
      "outputs": [
        {
          "output_type": "display_data",
          "data": {
            "text/plain": [
              "<Figure size 432x288 with 1 Axes>"
            ],
            "image/png": "[encoded data removed]"
          },
          "metadata": {
            "needs_background": "light"
          }
        }
      ]
    },
    {
      "cell_type": "code",
      "source": [
        "for i in range(1,100): #Repeat some of epoch\n",
        "  for x_i,y_i in zip(x,y):\n",
        "    y_hat = x_i * w + b\n",
        "    err = y_i - y_hat\n",
        "    w_rate = x_i\n",
        "    w = w + w_rate * err\n",
        "    b = b + 1 * err\n",
        "print(w,b)"
      ],
      "metadata": {
        "colab": {
          "base_uri": "https://localhost:8080/"
        },
        "id": "6kOEX00513V3",
        "outputId": "8be2ab68-d022-476b-b55f-d69a2e653b2f"
      },
      "execution_count": null,
      "outputs": [
        {
          "output_type": "stream",
          "name": "stdout",
          "text": [
            "913.5973364345905 123.39414383177204\n"
          ]
        }
      ]
    },
    {
      "cell_type": "code",
      "source": [
        "x_new = 0.18\n",
        "y_pred = x_new * w + b\n",
        "print(y_pred)"
      ],
      "metadata": {
        "colab": {
          "base_uri": "https://localhost:8080/"
        },
        "id": "3gigN16Z2md7",
        "outputId": "ce415e84-9222-43ec-bd64-b5761ea7e7ef"
      },
      "execution_count": null,
      "outputs": [
        {
          "output_type": "stream",
          "name": "stdout",
          "text": [
            "287.8416643899983\n"
          ]
        }
      ]
    },
    {
      "cell_type": "code",
      "source": [
        "plt.scatter(x,y)\n",
        "plt.scatter(x_new, y_pred)\n",
        "plt.xlabel('x')\n",
        "plt.ylabel('y')\n",
        "plt.show"
      ],
      "metadata": {
        "colab": {
          "base_uri": "https://localhost:8080/",
          "height": 295
        },
        "id": "Ug-YiBxZ2yUs",
        "outputId": "48007415-edac-4919-8458-cb7b1606c296"
      },
      "execution_count": null,
      "outputs": [
        {
          "output_type": "execute_result",
          "data": {
            "text/plain": [
              "<function matplotlib.pyplot.show(*args, **kw)>"
            ]
          },
          "metadata": {},
          "execution_count": 51
        },
        {
          "output_type": "display_data",
          "data": {
            "text/plain": [
              "<Figure size 432x288 with 1 Axes>"
            ],
            "image/png": "[encoded data removed]"
          },
          "metadata": {
            "needs_background": "light"
          }
        }
      ]
    },
    {
      "cell_type": "code",
      "source": [
        "y_hat = x_i * w + b #가중치에 대하여 제곱 오차 미분하기\n",
        "err = y_i - y_hat\n",
        "w_rate = x_i\n",
        "w = w + w_rate * err"
      ],
      "metadata": {
        "id": "G--tnEpY5Nbu"
      },
      "execution_count": null,
      "outputs": []
    },
    {
      "cell_type": "code",
      "source": [
        "err = y_i - y_hat\n",
        "b = b + 1*err"
      ],
      "metadata": {
        "id": "92LK8Jlh5eIC"
      },
      "execution_count": null,
      "outputs": []
    },
    {
      "cell_type": "code",
      "source": [
        "class Neuron:\n",
        "\n",
        "  def __init__(self): #Fill in __init__ method\n",
        "    self.w = 1.0\n",
        "    self.b = 1.0\n",
        "\n",
        "  def forpass(self, x):\n",
        "    y_hat = x * self.w + self.b #calculate straight line function\n",
        "    return y_hat\n",
        "\n",
        "  def backprop(self, x, err):\n",
        "    w_grad = x * err #calculate gradient about weight\n",
        "    b_grad = 1 * err #calculate gradient about intercept  \n",
        "    return w_grad, b_grad\n",
        "\n",
        "  def fit(self,x,y,epochs=100):\n",
        "    for i in range(epochs):                       #Repeat by epochs\n",
        "      for x_i, y_i in zip(x,y):                   #Repeat about every sample\n",
        "        y_hat = self.forpass(x_i)                 #Forpass Calculation\n",
        "        err = -(y_i - y_hat)                      #Error Calculation\n",
        "        w_grad, b_grad = self.backprop(x_i,err)   #Backprop Calculation\n",
        "        self.w -= w_grad                          #Update weight\n",
        "        self.b -= b_grad                          #Update intercept"
      ],
      "metadata": {
        "id": "OHnGFmwM6BSr"
      },
      "execution_count": null,
      "outputs": []
    },
    {
      "cell_type": "code",
      "source": [
        "neuron = Neuron()\n",
        "neuron.fit(x,y)"
      ],
      "metadata": {
        "id": "n7eWNIPA-CcU"
      },
      "execution_count": null,
      "outputs": []
    },
    {
      "cell_type": "code",
      "source": [
        ""
      ],
      "metadata": {
        "id": "UyptBM6jQX7w"
      },
      "execution_count": null,
      "outputs": []
    }
  ]
}