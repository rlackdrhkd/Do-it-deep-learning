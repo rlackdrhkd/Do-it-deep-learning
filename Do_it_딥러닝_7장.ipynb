{
  "nbformat": 4,
  "nbformat_minor": 0,
  "metadata": {
    "colab": {
      "name": "Do it 딥러닝 7장.ipynb",
      "provenance": [],
      "collapsed_sections": [],
      "authorship_tag": "ABX9TyOLB4m5jF1gSDupicaBoWkW",
      "include_colab_link": true
    },
    "kernelspec": {
      "name": "python3",
      "display_name": "Python 3"
    },
    "language_info": {
      "name": "python"
    }
  },
  "cells": [
    {
      "cell_type": "markdown",
      "metadata": {
        "id": "view-in-github",
        "colab_type": "text"
      },
      "source": [
        "<a href=\"https://colab.research.google.com/github/rlackdrhkd/Do-it-deep-learning/blob/main/Do_it_%EB%94%A5%EB%9F%AC%EB%8B%9D_7%EC%9E%A5.ipynb\" target=\"_parent\"><img src=\"https://colab.research.google.com/assets/colab-badge.svg\" alt=\"Open In Colab\"/></a>"
      ]
    },
    {
      "cell_type": "code",
      "source": [
        "import numpy as np\n",
        "import matplotlib.pyplot as plt"
      ],
      "metadata": {
        "id": "qdElHIrdFeiV"
      },
      "execution_count": 27,
      "outputs": []
    },
    {
      "cell_type": "code",
      "execution_count": 8,
      "metadata": {
        "id": "bJSvWpeMFQB1"
      },
      "outputs": [],
      "source": [
        "class MultiClassNetwork:\n",
        "\n",
        "  def __init__(self, units=0, batch_size=32, learning_rate=0.1, l1=0, l2=0):\n",
        "    self.units = units\n",
        "    self.batch_size = batch_size\n",
        "    self.w1 = None\n",
        "    self.b1 = None\n",
        "    self.w2 = None\n",
        "    self.b2 = None\n",
        "    self.a1 = None\n",
        "    self.losses = []\n",
        "    self.val_losses = []\n",
        "    self.lr = self.learning_rate\n",
        "    self.l1 = l1\n",
        "    self.l2 = l2\n",
        "\n",
        "  def forpass(self,x):\n",
        "    z1 = np.dot(x,self.w1) + self.b1\n",
        "    self.a1 = self.sigmoid(z1)\n",
        "    z2 = np.dot(self.a1,self.w2) + self.b2\n",
        "    return z2\n",
        "\n",
        "  def backprop(self,x,err):\n",
        "    m = len(x)\n",
        "    w2_grad = np.dot(self.a1.T, err) / m\n",
        "    b2_grad = np.sum(err) / m\n",
        "    err_to_hidden = np.dot(err,self.w2.T) * self.a1 * (1 - self.a1)\n",
        "    w1_grad = np.dot(x.T, err_to_hidden) / m\n",
        "    b1_grad = np.sum(err_to_hidden, axis=0) / m\n",
        "    return w1_grad, b1_grad, w2_grad, b2_grad\n",
        "\n",
        "  def sigmoid(self,z):\n",
        "    a = 1 / (1 + np.exp(-z))\n",
        "    return a\n",
        "\n",
        "  def softmax(self,z):\n",
        "    exp_z = np.exp(z)\n",
        "    return exp_z / np.sum(exp_z, axis).reshape(-1,1)\n",
        "\n",
        "  def init_weights(self, n_features, n_classes):\n",
        "    self.w1 = np.random.normal(0,1,\n",
        "                               (n_features,n_classes))\n",
        "    self.b1 = np.zeros(self.units)\n",
        "    self.w2 = np.random.normal(0,1,\n",
        "                               (self.units,n_classes))\n",
        "    self.b2 = np.zeros(n_classes)\n",
        "\n",
        "  def fit(self,x,y,epochs=100, x_val=None, y_val=None):\n",
        "    np.random.seed(42)\n",
        "    self.init_weights(x.shape[1], y.shape[1])\n",
        "    for i in range(epochs):\n",
        "      loss = 0\n",
        "      print('.', end='')\n",
        "      for x_batch, y_batch in self.gen_batch(x,y):\n",
        "        a = self.training(x_batch, y_batch)\n",
        "        a = np.clip(a, 1e-10, 1-1e-10)\n",
        "        loss += np.sum(-y_batch*np.log(a))\n",
        "      self.losses.append((loss + self.reg_loss()) / len(x))\n",
        "      self.update_val_loss(x_val,y_val)\n",
        "\n",
        "  def gen_batch(self,x,y):\n",
        "    length = len(x)\n",
        "    bins = length // self.batch_size\n",
        "    if length % self.batch_size:\n",
        "      bins += 1\n",
        "    indexes = np.random.permutation(np.arrange(len(x)))\n",
        "    x = x[indexes]\n",
        "    y = y[indexes]\n",
        "    for i in range(bins):\n",
        "      start = self.batch_size * i\n",
        "      end = self.batch_size * (i+1)\n",
        "      yield x[start:end], y[start:end]\n",
        "\n",
        "  def training(self,x,y):\n",
        "    m = len(x)\n",
        "    z = self.forpass(x)\n",
        "    a = self.softmax(z)\n",
        "    err = -(y - a)\n",
        "    w1_grad, b1_grad, w2_grad, b2_grad = self.backprop(x,err)\n",
        "    w1_grad += (self.l1*np.sign(self.w1) + self.l2 * self.w1) / m\n",
        "    w2_grad += (self.l1*np.sign(self.w2) + self.l2 * self.w2) / m\n",
        "    self.w1 -= self.lr * w1_grad\n",
        "    self.b1 -= self.lr * b1_grad\n",
        "    self.w2 -= self.lr * w2_grad\n",
        "    self.b2 -= self.lr * b2_grad\n",
        "    return\n",
        "\n",
        "  def perdict(self,x):\n",
        "    z = self.forpass(x)\n",
        "    return np.argmax(z, axis=1)\n",
        "\n",
        "  def score(self,x,y,):\n",
        "    return np.mean(self.predict(x) == np.argmax(y , axis=1))\n",
        "\n",
        "  def reg_loss(self):\n",
        "    return self.l1 * (np.sum(np.abs(self.w1)) + np.sum(np.abs(self.w2))) + \\\n",
        "           self.l2 / 2 * (np.sum(self.w1**2) + np.sum(self.w2**2))\n",
        "\n",
        "  def update_val_loss(self, x_val, y_val):\n",
        "    z = self.forpass(x_val)\n",
        "    a = self.softmax(z)\n",
        "    a = np.clip(a, 1e-10, 1-1e-10)\n",
        "    val_loss = np.sum(-y_val*np.log(a))\n",
        "    self.val_losses.append((val_loss + self.reg_loss()) / len(y_val))"
      ]
    },
    {
      "cell_type": "code",
      "source": [
        "!pip install tensorflow_gpu==2.0.0"
      ],
      "metadata": {
        "colab": {
          "base_uri": "https://localhost:8080/",
          "height": 1000
        },
        "id": "8K4NYeoQMVGL",
        "outputId": "5a5c62c9-dc15-4fe1-e3e7-429cfcf3a074"
      },
      "execution_count": 21,
      "outputs": [
        {
          "output_type": "stream",
          "name": "stdout",
          "text": [
            "Looking in indexes: https://pypi.org/simple, https://us-python.pkg.dev/colab-wheels/public/simple/\n",
            "Collecting tensorflow_gpu==2.0.0\n",
            "  Using cached tensorflow_gpu-2.0.0-cp37-cp37m-manylinux2010_x86_64.whl (380.8 MB)\n",
            "Requirement already satisfied: wheel>=0.26 in /usr/local/lib/python3.7/dist-packages (from tensorflow_gpu==2.0.0) (0.37.1)\n",
            "Requirement already satisfied: protobuf>=3.6.1 in /usr/local/lib/python3.7/dist-packages (from tensorflow_gpu==2.0.0) (3.17.3)\n",
            "Requirement already satisfied: keras-preprocessing>=1.0.5 in /usr/local/lib/python3.7/dist-packages (from tensorflow_gpu==2.0.0) (1.1.2)\n",
            "Collecting tensorboard<2.1.0,>=2.0.0\n",
            "  Using cached tensorboard-2.0.2-py3-none-any.whl (3.8 MB)\n",
            "Requirement already satisfied: grpcio>=1.8.6 in /usr/local/lib/python3.7/dist-packages (from tensorflow_gpu==2.0.0) (1.47.0)\n",
            "Requirement already satisfied: six>=1.10.0 in /usr/local/lib/python3.7/dist-packages (from tensorflow_gpu==2.0.0) (1.15.0)\n",
            "Requirement already satisfied: keras-applications>=1.0.8 in /usr/local/lib/python3.7/dist-packages (from tensorflow_gpu==2.0.0) (1.0.8)\n",
            "Requirement already satisfied: gast==0.2.2 in /usr/local/lib/python3.7/dist-packages (from tensorflow_gpu==2.0.0) (0.2.2)\n",
            "Requirement already satisfied: absl-py>=0.7.0 in /usr/local/lib/python3.7/dist-packages (from tensorflow_gpu==2.0.0) (1.2.0)\n",
            "Requirement already satisfied: astor>=0.6.0 in /usr/local/lib/python3.7/dist-packages (from tensorflow_gpu==2.0.0) (0.8.1)\n",
            "Requirement already satisfied: numpy<2.0,>=1.16.0 in /usr/local/lib/python3.7/dist-packages (from tensorflow_gpu==2.0.0) (1.21.6)\n",
            "Collecting tensorflow-estimator<2.1.0,>=2.0.0\n",
            "  Using cached tensorflow_estimator-2.0.1-py2.py3-none-any.whl (449 kB)\n",
            "Requirement already satisfied: termcolor>=1.1.0 in /usr/local/lib/python3.7/dist-packages (from tensorflow_gpu==2.0.0) (1.1.0)\n",
            "Requirement already satisfied: opt-einsum>=2.3.2 in /usr/local/lib/python3.7/dist-packages (from tensorflow_gpu==2.0.0) (3.3.0)\n",
            "Requirement already satisfied: wrapt>=1.11.1 in /usr/local/lib/python3.7/dist-packages (from tensorflow_gpu==2.0.0) (1.14.1)\n",
            "Requirement already satisfied: google-pasta>=0.1.6 in /usr/local/lib/python3.7/dist-packages (from tensorflow_gpu==2.0.0) (0.2.0)\n",
            "Requirement already satisfied: h5py in /usr/local/lib/python3.7/dist-packages (from keras-applications>=1.0.8->tensorflow_gpu==2.0.0) (3.1.0)\n",
            "Requirement already satisfied: werkzeug>=0.11.15 in /usr/local/lib/python3.7/dist-packages (from tensorboard<2.1.0,>=2.0.0->tensorflow_gpu==2.0.0) (1.0.1)\n",
            "Requirement already satisfied: markdown>=2.6.8 in /usr/local/lib/python3.7/dist-packages (from tensorboard<2.1.0,>=2.0.0->tensorflow_gpu==2.0.0) (3.4.1)\n",
            "Requirement already satisfied: setuptools>=41.0.0 in /usr/local/lib/python3.7/dist-packages (from tensorboard<2.1.0,>=2.0.0->tensorflow_gpu==2.0.0) (57.4.0)\n",
            "Requirement already satisfied: google-auth<2,>=1.6.3 in /usr/local/lib/python3.7/dist-packages (from tensorboard<2.1.0,>=2.0.0->tensorflow_gpu==2.0.0) (1.35.0)\n",
            "Requirement already satisfied: requests<3,>=2.21.0 in /usr/local/lib/python3.7/dist-packages (from tensorboard<2.1.0,>=2.0.0->tensorflow_gpu==2.0.0) (2.23.0)\n",
            "Requirement already satisfied: google-auth-oauthlib<0.5,>=0.4.1 in /usr/local/lib/python3.7/dist-packages (from tensorboard<2.1.0,>=2.0.0->tensorflow_gpu==2.0.0) (0.4.6)\n",
            "Requirement already satisfied: pyasn1-modules>=0.2.1 in /usr/local/lib/python3.7/dist-packages (from google-auth<2,>=1.6.3->tensorboard<2.1.0,>=2.0.0->tensorflow_gpu==2.0.0) (0.2.8)\n",
            "Requirement already satisfied: cachetools<5.0,>=2.0.0 in /usr/local/lib/python3.7/dist-packages (from google-auth<2,>=1.6.3->tensorboard<2.1.0,>=2.0.0->tensorflow_gpu==2.0.0) (4.2.4)\n",
            "Requirement already satisfied: rsa<5,>=3.1.4 in /usr/local/lib/python3.7/dist-packages (from google-auth<2,>=1.6.3->tensorboard<2.1.0,>=2.0.0->tensorflow_gpu==2.0.0) (4.9)\n",
            "Requirement already satisfied: requests-oauthlib>=0.7.0 in /usr/local/lib/python3.7/dist-packages (from google-auth-oauthlib<0.5,>=0.4.1->tensorboard<2.1.0,>=2.0.0->tensorflow_gpu==2.0.0) (1.3.1)\n",
            "Requirement already satisfied: importlib-metadata>=4.4 in /usr/local/lib/python3.7/dist-packages (from markdown>=2.6.8->tensorboard<2.1.0,>=2.0.0->tensorflow_gpu==2.0.0) (4.12.0)\n",
            "Requirement already satisfied: typing-extensions>=3.6.4 in /usr/local/lib/python3.7/dist-packages (from importlib-metadata>=4.4->markdown>=2.6.8->tensorboard<2.1.0,>=2.0.0->tensorflow_gpu==2.0.0) (4.1.1)\n",
            "Requirement already satisfied: zipp>=0.5 in /usr/local/lib/python3.7/dist-packages (from importlib-metadata>=4.4->markdown>=2.6.8->tensorboard<2.1.0,>=2.0.0->tensorflow_gpu==2.0.0) (3.8.1)\n",
            "Requirement already satisfied: pyasn1<0.5.0,>=0.4.6 in /usr/local/lib/python3.7/dist-packages (from pyasn1-modules>=0.2.1->google-auth<2,>=1.6.3->tensorboard<2.1.0,>=2.0.0->tensorflow_gpu==2.0.0) (0.4.8)\n",
            "Requirement already satisfied: idna<3,>=2.5 in /usr/local/lib/python3.7/dist-packages (from requests<3,>=2.21.0->tensorboard<2.1.0,>=2.0.0->tensorflow_gpu==2.0.0) (2.10)\n",
            "Requirement already satisfied: certifi>=2017.4.17 in /usr/local/lib/python3.7/dist-packages (from requests<3,>=2.21.0->tensorboard<2.1.0,>=2.0.0->tensorflow_gpu==2.0.0) (2022.6.15)\n",
            "Requirement already satisfied: urllib3!=1.25.0,!=1.25.1,<1.26,>=1.21.1 in /usr/local/lib/python3.7/dist-packages (from requests<3,>=2.21.0->tensorboard<2.1.0,>=2.0.0->tensorflow_gpu==2.0.0) (1.24.3)\n",
            "Requirement already satisfied: chardet<4,>=3.0.2 in /usr/local/lib/python3.7/dist-packages (from requests<3,>=2.21.0->tensorboard<2.1.0,>=2.0.0->tensorflow_gpu==2.0.0) (3.0.4)\n",
            "Requirement already satisfied: oauthlib>=3.0.0 in /usr/local/lib/python3.7/dist-packages (from requests-oauthlib>=0.7.0->google-auth-oauthlib<0.5,>=0.4.1->tensorboard<2.1.0,>=2.0.0->tensorflow_gpu==2.0.0) (3.2.0)\n",
            "Requirement already satisfied: cached-property in /usr/local/lib/python3.7/dist-packages (from h5py->keras-applications>=1.0.8->tensorflow_gpu==2.0.0) (1.5.2)\n",
            "Installing collected packages: tensorflow-estimator, tensorboard, tensorflow-gpu\n",
            "  Attempting uninstall: tensorflow-estimator\n",
            "    Found existing installation: tensorflow-estimator 2.10.0rc0\n",
            "    Uninstalling tensorflow-estimator-2.10.0rc0:\n",
            "      Successfully uninstalled tensorflow-estimator-2.10.0rc0\n",
            "  Attempting uninstall: tensorboard\n",
            "    Found existing installation: tensorboard 2.10.0\n",
            "    Uninstalling tensorboard-2.10.0:\n",
            "      Successfully uninstalled tensorboard-2.10.0\n",
            "  Attempting uninstall: tensorflow-gpu\n",
            "    Found existing installation: tensorflow-gpu 2.10.0rc2\n",
            "    Uninstalling tensorflow-gpu-2.10.0rc2:\n",
            "      Successfully uninstalled tensorflow-gpu-2.10.0rc2\n",
            "\u001b[31mERROR: pip's dependency resolver does not currently take into account all the packages that are installed. This behaviour is the source of the following dependency conflicts.\n",
            "tensorflow 2.8.2+zzzcolab20220719082949 requires keras<2.9,>=2.8.0rc0, but you have keras 2.10.0rc1 which is incompatible.\n",
            "tensorflow 2.8.2+zzzcolab20220719082949 requires tensorboard<2.9,>=2.8, but you have tensorboard 2.0.2 which is incompatible.\n",
            "tensorflow 2.8.2+zzzcolab20220719082949 requires tensorflow-estimator<2.9,>=2.8, but you have tensorflow-estimator 2.0.1 which is incompatible.\u001b[0m\n",
            "Successfully installed tensorboard-2.0.2 tensorflow-estimator-2.0.1 tensorflow-gpu-2.0.0\n"
          ]
        },
        {
          "output_type": "display_data",
          "data": {
            "application/vnd.colab-display-data+json": {
              "pip_warning": {
                "packages": [
                  "tensorboard",
                  "tensorflow",
                  "tensorflow_core",
                  "tensorflow_estimator"
                ]
              }
            }
          },
          "metadata": {}
        }
      ]
    },
    {
      "cell_type": "code",
      "source": [
        "import tensorflow as tf"
      ],
      "metadata": {
        "id": "p69ZLI2QMlyn"
      },
      "execution_count": 22,
      "outputs": []
    },
    {
      "cell_type": "code",
      "source": [
        "tf.__version__"
      ],
      "metadata": {
        "colab": {
          "base_uri": "https://localhost:8080/",
          "height": 34
        },
        "id": "-8FUg8UCMr85",
        "outputId": "783b3f1b-4d25-47e9-bc0a-f4c39c698ee1"
      },
      "execution_count": 23,
      "outputs": [
        {
          "output_type": "execute_result",
          "data": {
            "text/plain": [
              "'2.0.0'"
            ],
            "application/vnd.google.colaboratory.intrinsic+json": {
              "type": "string"
            }
          },
          "metadata": {},
          "execution_count": 23
        }
      ]
    },
    {
      "cell_type": "code",
      "source": [
        "(x_train_all,y_train_all), (x_test,y_test) = tf.keras.datasets.fashion_mnist.load_data()"
      ],
      "metadata": {
        "colab": {
          "base_uri": "https://localhost:8080/"
        },
        "id": "kTQz21clMvek",
        "outputId": "aefbb47e-b5a0-44fd-d0b3-d5f584e9b2cf"
      },
      "execution_count": 24,
      "outputs": [
        {
          "output_type": "stream",
          "name": "stdout",
          "text": [
            "Downloading data from https://storage.googleapis.com/tensorflow/tf-keras-datasets/train-labels-idx1-ubyte.gz\n",
            "32768/29515 [=================================] - 0s 0us/step\n",
            "Downloading data from https://storage.googleapis.com/tensorflow/tf-keras-datasets/train-images-idx3-ubyte.gz\n",
            "26427392/26421880 [==============================] - 0s 0us/step\n",
            "Downloading data from https://storage.googleapis.com/tensorflow/tf-keras-datasets/t10k-labels-idx1-ubyte.gz\n",
            "8192/5148 [===============================================] - 0s 0us/step\n",
            "Downloading data from https://storage.googleapis.com/tensorflow/tf-keras-datasets/t10k-images-idx3-ubyte.gz\n",
            "4423680/4422102 [==============================] - 0s 0us/step\n"
          ]
        }
      ]
    },
    {
      "cell_type": "code",
      "source": [
        "print(x_train_all.shape,y_train_all.shape)"
      ],
      "metadata": {
        "colab": {
          "base_uri": "https://localhost:8080/"
        },
        "id": "ZcgI3kUyOcQ-",
        "outputId": "9bd27c67-bf00-4ec8-b66a-57e813405fad"
      },
      "execution_count": 26,
      "outputs": [
        {
          "output_type": "stream",
          "name": "stdout",
          "text": [
            "(60000, 28, 28) (60000,)\n"
          ]
        }
      ]
    },
    {
      "cell_type": "code",
      "source": [
        "plt.imshow(x_train_all[0], cmap= 'gray')\n",
        "plt.show()"
      ],
      "metadata": {
        "colab": {
          "base_uri": "https://localhost:8080/",
          "height": 264
        },
        "id": "kUVf4-lTQLq0",
        "outputId": "8ed8e8e5-ed2e-4094-ec1d-6f303bf14993"
      },
      "execution_count": 28,
      "outputs": [
        {
          "output_type": "display_data",
          "data": {
            "text/plain": [
              "<Figure size 432x288 with 1 Axes>"
            ],
            "image/png": "[encoded data removed]"
          },
          "metadata": {
            "needs_background": "light"
          }
        }
      ]
    },
    {
      "cell_type": "code",
      "source": [
        "print(y_train_all[:10])"
      ],
      "metadata": {
        "colab": {
          "base_uri": "https://localhost:8080/"
        },
        "id": "hBwfvq7zQZ8D",
        "outputId": "2884b61d-9534-491e-eb5b-bf46d133dbf4"
      },
      "execution_count": 29,
      "outputs": [
        {
          "output_type": "stream",
          "name": "stdout",
          "text": [
            "[9 0 0 3 0 2 7 2 5 5]\n"
          ]
        }
      ]
    },
    {
      "cell_type": "code",
      "source": [
        "class_names = ['T-shirt','pants', 'sweater', 'dress', 'coat',\n",
        "              'sandle', 'shirt', 'sneakers', 'bag', 'ankle boots']"
      ],
      "metadata": {
        "id": "F-KA3Fn8Qnci"
      },
      "execution_count": 35,
      "outputs": []
    },
    {
      "cell_type": "code",
      "source": [
        "print(class_names[y_train_all[0]])"
      ],
      "metadata": {
        "colab": {
          "base_uri": "https://localhost:8080/"
        },
        "id": "vWzwp7c_QgO4",
        "outputId": "04e438f6-d125-4cf1-d921-082e8b072ea9"
      },
      "execution_count": 36,
      "outputs": [
        {
          "output_type": "stream",
          "name": "stdout",
          "text": [
            "ankle boots\n"
          ]
        }
      ]
    },
    {
      "cell_type": "code",
      "source": [
        "np.bincount(y_train_all)"
      ],
      "metadata": {
        "colab": {
          "base_uri": "https://localhost:8080/"
        },
        "id": "_YW_BE2eQ_dn",
        "outputId": "d50cd7e1-6d54-4329-fba8-0c4f957d1031"
      },
      "execution_count": 37,
      "outputs": [
        {
          "output_type": "execute_result",
          "data": {
            "text/plain": [
              "array([6000, 6000, 6000, 6000, 6000, 6000, 6000, 6000, 6000, 6000])"
            ]
          },
          "metadata": {},
          "execution_count": 37
        }
      ]
    },
    {
      "cell_type": "code",
      "source": [
        "from sklearn.model_selection import train_test_split\n",
        "x_train, x_val, y_train, y_val = train_test_split(x_train_all, y_train_all,\n",
        "                                                  stratify=y_train_all, test_size = 0.2, random_state=42)"
      ],
      "metadata": {
        "id": "P1Xw8hawRCwb"
      },
      "execution_count": 38,
      "outputs": []
    },
    {
      "cell_type": "code",
      "source": [
        "np.bincount(y_train)"
      ],
      "metadata": {
        "colab": {
          "base_uri": "https://localhost:8080/"
        },
        "id": "yXmZ3Y5VRdgC",
        "outputId": "41528776-be77-4748-cb6f-6d7fe9969e06"
      },
      "execution_count": 42,
      "outputs": [
        {
          "output_type": "execute_result",
          "data": {
            "text/plain": [
              "array([4800, 4800, 4800, 4800, 4800, 4800, 4800, 4800, 4800, 4800])"
            ]
          },
          "metadata": {},
          "execution_count": 42
        }
      ]
    },
    {
      "cell_type": "code",
      "source": [
        "np.bincount(y_val)"
      ],
      "metadata": {
        "colab": {
          "base_uri": "https://localhost:8080/"
        },
        "id": "cqKOjHn2Rnp5",
        "outputId": "3dd37016-8f42-4e6f-a7e0-2f9e9593469d"
      },
      "execution_count": 41,
      "outputs": [
        {
          "output_type": "execute_result",
          "data": {
            "text/plain": [
              "array([1200, 1200, 1200, 1200, 1200, 1200, 1200, 1200, 1200, 1200])"
            ]
          },
          "metadata": {},
          "execution_count": 41
        }
      ]
    },
    {
      "cell_type": "code",
      "source": [
        "x_train = x_train / 255\n",
        "y_train = y_train / 255"
      ],
      "metadata": {
        "id": "_hCR706SRpX5"
      },
      "execution_count": 44,
      "outputs": []
    },
    {
      "cell_type": "code",
      "source": [
        "x_train = x_train.reshape(-1, 784)\n",
        "x_val = x_val.reshape(-1, 784)"
      ],
      "metadata": {
        "id": "hln3buuCR4Xa"
      },
      "execution_count": 45,
      "outputs": []
    },
    {
      "cell_type": "code",
      "source": [
        "print(x_train.shape, x_val.shape)"
      ],
      "metadata": {
        "colab": {
          "base_uri": "https://localhost:8080/"
        },
        "id": "eYEgXwUgSGQD",
        "outputId": "23546254-f078-476a-a04f-9ba01011d340"
      },
      "execution_count": 46,
      "outputs": [
        {
          "output_type": "stream",
          "name": "stdout",
          "text": [
            "(48000, 784) (12000, 784)\n"
          ]
        }
      ]
    },
    {
      "cell_type": "code",
      "source": [
        ""
      ],
      "metadata": {
        "id": "F_0qGbZ1SJps"
      },
      "execution_count": null,
      "outputs": []
    }
  ]
}