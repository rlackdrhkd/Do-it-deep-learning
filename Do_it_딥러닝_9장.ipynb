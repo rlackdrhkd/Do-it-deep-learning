{
  "nbformat": 4,
  "nbformat_minor": 0,
  "metadata": {
    "colab": {
      "name": "Do it 딥러닝 9장.ipynb",
      "provenance": [],
      "authorship_tag": "ABX9TyNdch/tCNIaN6OumLKc1p8j",
      "include_colab_link": true
    },
    "kernelspec": {
      "name": "python3",
      "display_name": "Python 3"
    },
    "language_info": {
      "name": "python"
    }
  },
  "cells": [
    {
      "cell_type": "markdown",
      "metadata": {
        "id": "view-in-github",
        "colab_type": "text"
      },
      "source": [
        "<a href=\"https://colab.research.google.com/github/rlackdrhkd/Do-it-deep-learning/blob/main/Do_it_%EB%94%A5%EB%9F%AC%EB%8B%9D_9%EC%9E%A5.ipynb\" target=\"_parent\"><img src=\"https://colab.research.google.com/assets/colab-badge.svg\" alt=\"Open In Colab\"/></a>"
      ]
    },
    {
      "cell_type": "code",
      "execution_count": 20,
      "metadata": {
        "id": "MpanV267emw-"
      },
      "outputs": [],
      "source": [
        "import numpy as np\n",
        "import tensorflow as tf"
      ]
    },
    {
      "cell_type": "code",
      "source": [
        "from tensorflow.keras.datasets import imdb\n",
        "\n",
        "(x_train_all,y_train_all),(x_test,y_test) = imdb.load_data(skip_top=20, num_words = 100)"
      ],
      "metadata": {
        "colab": {
          "base_uri": "https://localhost:8080/"
        },
        "id": "32eAZyfDesk7",
        "outputId": "824d7828-8b0a-470d-e752-59bfbd3cf457"
      },
      "execution_count": 2,
      "outputs": [
        {
          "output_type": "stream",
          "name": "stdout",
          "text": [
            "Downloading data from https://storage.googleapis.com/tensorflow/tf-keras-datasets/imdb.npz\n",
            "17465344/17464789 [==============================] - 0s 0us/step\n",
            "17473536/17464789 [==============================] - 0s 0us/step\n"
          ]
        }
      ]
    },
    {
      "cell_type": "code",
      "source": [
        "print(x_train_all.shape,y_train_all.shape)"
      ],
      "metadata": {
        "colab": {
          "base_uri": "https://localhost:8080/"
        },
        "id": "tCjMC41s0YnP",
        "outputId": "fa1f2cc0-ac85-4142-b246-358d94c85558"
      },
      "execution_count": 3,
      "outputs": [
        {
          "output_type": "stream",
          "name": "stdout",
          "text": [
            "(25000,) (25000,)\n"
          ]
        }
      ]
    },
    {
      "cell_type": "code",
      "source": [
        "print(x_train_all[0])"
      ],
      "metadata": {
        "colab": {
          "base_uri": "https://localhost:8080/"
        },
        "id": "x8XSFi5_e-Wf",
        "outputId": "ce6eddbf-d2a7-4e4e-91c8-a628e42ac415"
      },
      "execution_count": 4,
      "outputs": [
        {
          "output_type": "stream",
          "name": "stdout",
          "text": [
            "[2, 2, 22, 2, 43, 2, 2, 2, 2, 65, 2, 2, 66, 2, 2, 2, 36, 2, 2, 25, 2, 43, 2, 2, 50, 2, 2, 2, 35, 2, 2, 2, 2, 2, 2, 2, 2, 2, 2, 2, 39, 2, 2, 2, 2, 2, 2, 38, 2, 2, 2, 2, 50, 2, 2, 2, 2, 2, 2, 22, 2, 2, 2, 2, 2, 22, 71, 87, 2, 2, 43, 2, 38, 76, 2, 2, 2, 2, 22, 2, 2, 2, 2, 2, 2, 2, 2, 2, 62, 2, 2, 2, 2, 2, 2, 2, 2, 2, 2, 2, 2, 66, 2, 33, 2, 2, 2, 2, 38, 2, 2, 25, 2, 51, 36, 2, 48, 25, 2, 33, 2, 22, 2, 2, 28, 77, 52, 2, 2, 2, 2, 82, 2, 2, 2, 2, 2, 2, 2, 2, 2, 2, 2, 2, 2, 2, 36, 71, 43, 2, 2, 26, 2, 2, 46, 2, 2, 2, 2, 2, 2, 88, 2, 2, 2, 2, 98, 32, 2, 56, 26, 2, 2, 2, 2, 2, 2, 2, 22, 21, 2, 2, 26, 2, 2, 2, 30, 2, 2, 51, 36, 28, 2, 92, 25, 2, 2, 2, 65, 2, 38, 2, 88, 2, 2, 2, 2, 2, 2, 2, 2, 32, 2, 2, 2, 2, 2, 32]\n"
          ]
        }
      ]
    },
    {
      "cell_type": "code",
      "source": [
        "for i in range(len(x_train_all)):\n",
        "  x_train_all[i] = [w for w in x_train_all[i] if w > 2]\n",
        "\n",
        "print(x_train_all[0])"
      ],
      "metadata": {
        "id": "rs38mZGrfA0l",
        "colab": {
          "base_uri": "https://localhost:8080/"
        },
        "outputId": "a0982849-f9a7-449e-e876-f870a6e9460d"
      },
      "execution_count": 5,
      "outputs": [
        {
          "output_type": "stream",
          "name": "stdout",
          "text": [
            "[22, 43, 65, 66, 36, 25, 43, 50, 35, 39, 38, 50, 22, 22, 71, 87, 43, 38, 76, 22, 62, 66, 33, 38, 25, 51, 36, 48, 25, 33, 22, 28, 77, 52, 82, 36, 71, 43, 26, 46, 88, 98, 32, 56, 26, 22, 21, 26, 30, 51, 36, 28, 92, 25, 65, 38, 88, 32, 32]\n"
          ]
        }
      ]
    },
    {
      "cell_type": "code",
      "source": [
        "word_to_index = imdb.get_word_index()\n",
        "word_to_index['movie']"
      ],
      "metadata": {
        "colab": {
          "base_uri": "https://localhost:8080/"
        },
        "id": "iCQerkFCzdta",
        "outputId": "1df764b4-9eb7-4d62-e487-47129f978774"
      },
      "execution_count": 6,
      "outputs": [
        {
          "output_type": "stream",
          "name": "stdout",
          "text": [
            "Downloading data from https://storage.googleapis.com/tensorflow/tf-keras-datasets/imdb_word_index.json\n",
            "1646592/1641221 [==============================] - 0s 0us/step\n",
            "1654784/1641221 [==============================] - 0s 0us/step\n"
          ]
        },
        {
          "output_type": "execute_result",
          "data": {
            "text/plain": [
              "17"
            ]
          },
          "metadata": {},
          "execution_count": 6
        }
      ]
    },
    {
      "cell_type": "code",
      "source": [
        "index_to_word = {word_to_index[k]: k for k in word_to_index}\n",
        "\n",
        "for w in x_train_all[0]:\n",
        "  print(index_to_word[w - 3], end=' ')"
      ],
      "metadata": {
        "colab": {
          "base_uri": "https://localhost:8080/"
        },
        "id": "SX2mnOS6zpEt",
        "outputId": "84f27ebd-759f-4636-9554-87a9574b5fcf"
      },
      "execution_count": 7,
      "outputs": [
        {
          "output_type": "stream",
          "name": "stdout",
          "text": [
            "film just story really they you just there an from so there film film were great just so much film would really at so you what they if you at film have been good also they were just are out because them all up are film but are be what they have don't you story so because all all "
          ]
        }
      ]
    },
    {
      "cell_type": "code",
      "source": [
        "print(len(x_train_all[0]), len(x_train_all[1]))"
      ],
      "metadata": {
        "colab": {
          "base_uri": "https://localhost:8080/"
        },
        "id": "ibyEyn4cz-xf",
        "outputId": "f6a4fdf5-4bc2-4e4c-a5c9-65a1b185a8f5"
      },
      "execution_count": 8,
      "outputs": [
        {
          "output_type": "stream",
          "name": "stdout",
          "text": [
            "59 32\n"
          ]
        }
      ]
    },
    {
      "cell_type": "code",
      "source": [
        "print(y_train_all[:10])"
      ],
      "metadata": {
        "colab": {
          "base_uri": "https://localhost:8080/"
        },
        "id": "0Aj_osjC0K0Y",
        "outputId": "b327a845-3abf-4444-a080-79fd6170ba9b"
      },
      "execution_count": 9,
      "outputs": [
        {
          "output_type": "stream",
          "name": "stdout",
          "text": [
            "[1 0 0 1 0 0 1 0 1 0]\n"
          ]
        }
      ]
    },
    {
      "cell_type": "code",
      "source": [
        "np.random.seed(42)\n",
        "random_index = np.random.permutation(25000)\n",
        "\n",
        "x_train = x_train_all[random_index[:20000]]\n",
        "y_train = y_train_all[random_index[:20000]]\n",
        "x_val = x_train_all[random_index[20000:]]\n",
        "y_val = y_train_all[random_index[20000:]]"
      ],
      "metadata": {
        "id": "FvGfT-Db0N8K"
      },
      "execution_count": 10,
      "outputs": []
    },
    {
      "cell_type": "code",
      "source": [
        "from tensorflow.keras.preprocessing import sequence\n",
        "\n",
        "maxlen=100\n",
        "x_train_seq = sequence.pad_sequences(x_train, maxlen=maxlen)\n",
        "x_val_seq = sequence.pad_sequences(x_val, maxlen=maxlen)"
      ],
      "metadata": {
        "id": "a-1JbWWK0uEm"
      },
      "execution_count": 11,
      "outputs": []
    },
    {
      "cell_type": "code",
      "source": [
        "print(x_train_seq.shape, x_val_seq.shape)"
      ],
      "metadata": {
        "colab": {
          "base_uri": "https://localhost:8080/"
        },
        "id": "0EF6p2lc1I_T",
        "outputId": "20ca78f4-e41c-4ded-fd93-4062a6569854"
      },
      "execution_count": 12,
      "outputs": [
        {
          "output_type": "stream",
          "name": "stdout",
          "text": [
            "(20000, 100) (5000, 100)\n"
          ]
        }
      ]
    },
    {
      "cell_type": "code",
      "source": [
        "print(x_train_seq[0])"
      ],
      "metadata": {
        "colab": {
          "base_uri": "https://localhost:8080/"
        },
        "id": "6Grp8JX71Phv",
        "outputId": "1ff1b413-4df5-4447-d9a4-af3868c05177"
      },
      "execution_count": 13,
      "outputs": [
        {
          "output_type": "stream",
          "name": "stdout",
          "text": [
            "[ 0  0  0  0  0  0  0  0  0  0  0  0  0  0  0  0  0  0  0  0  0  0  0  0\n",
            "  0  0  0  0  0  0  0  0  0  0  0  0  0  0  0  0  0  0  0  0  0  0  0  0\n",
            "  0  0  0  0  0  0  0  0  0  0  0  0  0  0 35 40 27 28 40 22 83 31 85 45\n",
            " 24 23 31 70 31 76 30 98 32 22 28 51 75 56 30 33 97 53 38 46 53 74 31 35\n",
            " 23 34 22 58]\n"
          ]
        }
      ]
    },
    {
      "cell_type": "code",
      "source": [
        "from tensorflow.keras.utils import to_categorical\n",
        "\n",
        "x_train_onehot = to_categorical(x_train_seq)\n",
        "x_val_onehot = to_categorical(x_val_seq)"
      ],
      "metadata": {
        "id": "LQbe-Y9n1TEY"
      },
      "execution_count": 14,
      "outputs": []
    },
    {
      "cell_type": "code",
      "source": [
        "print(x_train_onehot.shape)"
      ],
      "metadata": {
        "colab": {
          "base_uri": "https://localhost:8080/"
        },
        "id": "Nba4q4TY1jFf",
        "outputId": "593ba881-88b1-4b06-c4ad-d1e479ab254f"
      },
      "execution_count": 15,
      "outputs": [
        {
          "output_type": "stream",
          "name": "stdout",
          "text": [
            "(20000, 100, 100)\n"
          ]
        }
      ]
    },
    {
      "cell_type": "code",
      "source": [
        "print(x_train_onehot.nbytes)"
      ],
      "metadata": {
        "colab": {
          "base_uri": "https://localhost:8080/"
        },
        "id": "iIdcbX4G1oo2",
        "outputId": "4918560e-0167-4152-939f-095c402f6631"
      },
      "execution_count": 16,
      "outputs": [
        {
          "output_type": "stream",
          "name": "stdout",
          "text": [
            "800000000\n"
          ]
        }
      ]
    },
    {
      "cell_type": "code",
      "source": [
        "class RecurrentNetwork:\n",
        "\n",
        "  def __init__(self, n_cells=10, batch_size=32, learning_rate=0.1):\n",
        "    self.n_cells = n_cells\n",
        "    self.batch_size = batch_size\n",
        "    self.w1h = None\n",
        "    self.w1x = None\n",
        "    self.b1 = None\n",
        "    self.w2 = None\n",
        "    self.b2 = None\n",
        "    self.h = None\n",
        "    self.losses = []\n",
        "    self.val_losses = []\n",
        "    self.lr = learning_rate\n",
        "\n",
        "  def forpass(self,x):\n",
        "    self.h = [np.zeros((x.shape[0], self.n_cells))]\n",
        "    seq = np.swapaxes(x,0,1)\n",
        "    for x in seq:\n",
        "      z1 = np.dot(x, self.w1x) + np.dot(self.h[-1], self.w1h) + self.b1\n",
        "      h = np.tanh(z1)\n",
        "      self.h.append(h)\n",
        "      z2 = np.dot(h,self.w2) + self.b2\n",
        "    return z2\n",
        "  \n",
        "  def backprop(self,x,err):\n",
        "    m = len(x)\n",
        "    w2_grad = np.dot(self.h[-1].T,err) / m\n",
        "    b2_grad = np.sum(err) / m\n",
        "    seq = np.swapaxes(x,0,1)\n",
        "    w1h_grad = w1x_grad = b1_grad = 0\n",
        "    err_to_cell = np.dot(err,self.w2.T) * (1 - self.h[-1] ** 2)\n",
        "    for x,h in zip(seq[::1][:10], self.h[:-1][::-1][:10]):\n",
        "      w1h_grad += np.dot(h.T, err_to_cell)\n",
        "      w1x_grad += np.dot(x.T, err_to_cell)\n",
        "      b1_grad += np.sum(err_to_cell, axis=0)\n",
        "      err_to_cell = np.dot(err_to_cell, self.w1h) * (1 - h ** 2)\n",
        "\n",
        "    w1h_grad /= m\n",
        "    w1x_grad /= m\n",
        "    b1_grad /= m\n",
        "\n",
        "    return w1h_grad, w1x_grad, b1_grad, w2_grad, b2_grad\n",
        "\n",
        "  def sigmoid(self,z):\n",
        "    a = 1 / (1 + np.exp(-z))\n",
        "    return a\n",
        "\n",
        "  def init_weights(self, n_features, n_classes):\n",
        "    orth_init = tf.initializers.Orthogonal()\n",
        "    glorot_init = tf.initializers.GlorotUniform()\n",
        "\n",
        "    self.w1h = orth_init((self.n_cells, self.n_cells)).numpy()\n",
        "    self.w1x = glorot_init((n_features, self.n_cells)).numpy()\n",
        "    self.b1 = np.zeros(self.n_cells)\n",
        "    self.w2 = glorot_init((self.n_cells, n_classes)).numpy()\n",
        "    self.b2 = np.zeros(n_classes)\n",
        "  \n",
        "  def fit(self,x,y,epochs=100, x_val=None, y_val=None):\n",
        "    y = y.reshape(-1,1)\n",
        "    y_val = y_val.reshape(-1,1)\n",
        "    np.random.seed(42)\n",
        "    self.init_weights(x.shape[2], y.shape[1])\n",
        "    for i in range(epochs):\n",
        "      print('에포크',i,end = ' ')\n",
        "      batch_losses = []\n",
        "      for x_batch, y_batch in self.gen_batch(x,y):\n",
        "        print('.', end='')\n",
        "        a = self.training(x_batch, y_batch)\n",
        "        a = np.clip(a,1e-10,1-1e-10)\n",
        "        loss = np.mean(-(y_batch*np.log(a) + (1-y_batch)*np.log(1-a)))\n",
        "        batch_losses.append(loss)\n",
        "      print()\n",
        "      self.losses.append(np.mean(batch_losses))\n",
        "      self.update_val_loss(x_val,y_val)\n",
        "\n",
        "  def gen_batch(self,x,y):\n",
        "    length = len(x)\n",
        "    bins = length // self.batch_size\n",
        "    if length % self.batch_size:\n",
        "      bins += 1\n",
        "    indexes = np.random.permutation(np.arange(len(x)))\n",
        "    x = x[indexes]\n",
        "    y = y[indexes]\n",
        "    for i in range(bins):\n",
        "      start = self.batch_size * i\n",
        "      end = self.batch_size * (i+1)\n",
        "      yield x[start:end], y[start:end]\n",
        "\n",
        "  def training(self,x,y):\n",
        "    m = len(x)\n",
        "    z = self.forpass(x)\n",
        "    a = self.sigmoid(z)\n",
        "    err = -(y- a)\n",
        "    w1h_grad, w1x_grad, b1_grad, w2_grad, b2_grad = self.backprop(x,err)\n",
        "    self.w1h -= self.lr * w1h_grad\n",
        "    self.w1x -= self.lr * w1x_grad\n",
        "    self.b1 -= self.lr * b1_grad\n",
        "    self.w2 -= self.lr * w2_grad\n",
        "    self.b2 -= self.lr * b2_grad\n",
        "    return a\n",
        "\n",
        "  def predict(self,x):\n",
        "    z = self.forpass(x)\n",
        "    return z > 0\n",
        "\n",
        "  def score(self,x,y):\n",
        "    return np.mean(self.predict(x) == y.reshape(-1,1))\n",
        "\n",
        "  def update_val_loss(self,x_val,y_val):\n",
        "    z = self.forpass(x_val)\n",
        "    a = self.sigmoid(z)\n",
        "    a = np.clip(a, 1e-10, 1-1e-10)\n",
        "    val_loss = np.mean(-(y_val*np.log(a) + (1-y_val)*np.log(1-a)))\n",
        "    self.val_losses.append(val_loss)"
      ],
      "metadata": {
        "id": "tIIAMBND11Cp"
      },
      "execution_count": 38,
      "outputs": []
    },
    {
      "cell_type": "code",
      "source": [
        "rn = RecurrentNetwork(n_cells=32, batch_size=32, learning_rate=0.01)\n",
        "\n",
        "rn.fit(x_train_onehot, y_train, epochs=20, x_val=x_val_onehot, y_val=y_val)"
      ],
      "metadata": {
        "colab": {
          "base_uri": "https://localhost:8080/"
        },
        "id": "oGz2ZIJa8dj-",
        "outputId": "c5f22abf-0d3a-42d7-94ba-5fa87e83c647"
      },
      "execution_count": 39,
      "outputs": [
        {
          "output_type": "stream",
          "name": "stdout",
          "text": [
            "에포크 0 .................................................................................................................................................................................................................................................................................................................................................................................................................................................................................................................................................................................................................................................\n",
            "에포크 1 .................................................................................................................................................................................................................................................................................................................................................................................................................................................................................................................................................................................................................................................\n",
            "에포크 2 .................................................................................................................................................................................................................................................................................................................................................................................................................................................................................................................................................................................................................................................\n",
            "에포크 3 .................................................................................................................................................................................................................................................................................................................................................................................................................................................................................................................................................................................................................................................\n",
            "에포크 4 .................................................................................................................................................................................................................................................................................................................................................................................................................................................................................................................................................................................................................................................\n",
            "에포크 5 .................................................................................................................................................................................................................................................................................................................................................................................................................................................................................................................................................................................................................................................\n",
            "에포크 6 .................................................................................................................................................................................................................................................................................................................................................................................................................................................................................................................................................................................................................................................\n",
            "에포크 7 .................................................................................................................................................................................................................................................................................................................................................................................................................................................................................................................................................................................................................................................\n",
            "에포크 8 .................................................................................................................................................................................................................................................................................................................................................................................................................................................................................................................................................................................................................................................\n",
            "에포크 9 .................................................................................................................................................................................................................................................................................................................................................................................................................................................................................................................................................................................................................................................\n",
            "에포크 10 .................................................................................................................................................................................................................................................................................................................................................................................................................................................................................................................................................................................................................................................\n",
            "에포크 11 .................................................................................................................................................................................................................................................................................................................................................................................................................................................................................................................................................................................................................................................\n",
            "에포크 12 .................................................................................................................................................................................................................................................................................................................................................................................................................................................................................................................................................................................................................................................\n",
            "에포크 13 .................................................................................................................................................................................................................................................................................................................................................................................................................................................................................................................................................................................................................................................\n",
            "에포크 14 .................................................................................................................................................................................................................................................................................................................................................................................................................................................................................................................................................................................................................................................\n",
            "에포크 15 .................................................................................................................................................................................................................................................................................................................................................................................................................................................................................................................................................................................................................................................\n",
            "에포크 16 .................................................................................................................................................................................................................................................................................................................................................................................................................................................................................................................................................................................................................................................\n",
            "에포크 17 .................................................................................................................................................................................................................................................................................................................................................................................................................................................................................................................................................................................................................................................\n",
            "에포크 18 .................................................................................................................................................................................................................................................................................................................................................................................................................................................................................................................................................................................................................................................\n",
            "에포크 19 .................................................................................................................................................................................................................................................................................................................................................................................................................................................................................................................................................................................................................................................\n"
          ]
        }
      ]
    },
    {
      "cell_type": "code",
      "source": [
        "import matplotlib.pyplot as plt\n",
        "\n",
        "plt.plot(rn.losses)\n",
        "plt.plot(rn.val_losses)\n",
        "plt.show()"
      ],
      "metadata": {
        "colab": {
          "base_uri": "https://localhost:8080/",
          "height": 266
        },
        "id": "-A6ZLyfNJhWj",
        "outputId": "ac0071e6-1c8f-4c95-a507-c170fac08740"
      },
      "execution_count": 41,
      "outputs": [
        {
          "output_type": "display_data",
          "data": {
            "text/plain": [
              "<Figure size 432x288 with 1 Axes>"
            ],
            "image/png": "[encoded data removed]"
          },
          "metadata": {
            "needs_background": "light"
          }
        }
      ]
    },
    {
      "cell_type": "code",
      "source": [
        "rn.score(x_val_onehot,y_val)"
      ],
      "metadata": {
        "id": "Sqfa2A6ENOWv",
        "outputId": "4822ef8d-94a4-4105-aa50-d2c5ef091512",
        "colab": {
          "base_uri": "https://localhost:8080/"
        }
      },
      "execution_count": 42,
      "outputs": [
        {
          "output_type": "execute_result",
          "data": {
            "text/plain": [
              "0.584"
            ]
          },
          "metadata": {},
          "execution_count": 42
        }
      ]
    },
    {
      "cell_type": "code",
      "source": [
        "from tensorflow.keras.models import Sequential\n",
        "from tensorflow.keras.layers import Dense, SimpleRNN"
      ],
      "metadata": {
        "id": "0aSfLj3FNWCt"
      },
      "execution_count": 43,
      "outputs": []
    },
    {
      "cell_type": "code",
      "source": [
        "model = Sequential()\n",
        "model.add(SimpleRNN(32, input_shape=(100,100)))\n",
        "model.add(Dense(1, activation='sigmoid'))\n",
        "\n",
        "model.summary()"
      ],
      "metadata": {
        "id": "SgBGBP_KNhMx",
        "outputId": "115405e7-7308-4537-adeb-f80714947bc6",
        "colab": {
          "base_uri": "https://localhost:8080/"
        }
      },
      "execution_count": 46,
      "outputs": [
        {
          "output_type": "stream",
          "name": "stdout",
          "text": [
            "Model: \"sequential_2\"\n",
            "_________________________________________________________________\n",
            " Layer (type)                Output Shape              Param #   \n",
            "=================================================================\n",
            " simple_rnn (SimpleRNN)      (None, 32)                4256      \n",
            "                                                                 \n",
            " dense (Dense)               (None, 1)                 33        \n",
            "                                                                 \n",
            "=================================================================\n",
            "Total params: 4,289\n",
            "Trainable params: 4,289\n",
            "Non-trainable params: 0\n",
            "_________________________________________________________________\n"
          ]
        }
      ]
    },
    {
      "cell_type": "code",
      "source": [
        "model.compile(optimizer='sgd', loss='binary_crossentropy', metrics=['accuracy'])\n",
        "\n",
        "history = model.fit(x_train_onehot, y_train, epochs=20, batch_size=32,\n",
        "                    validation_data=(x_val_onehot,y_val))"
      ],
      "metadata": {
        "id": "vVKCBoPkN0YK",
        "outputId": "fcd7f801-2b1f-4952-8e16-ebfda96f08dc",
        "colab": {
          "base_uri": "https://localhost:8080/"
        }
      },
      "execution_count": 47,
      "outputs": [
        {
          "output_type": "stream",
          "name": "stdout",
          "text": [
            "Epoch 1/20\n",
            "625/625 [==============================] - 20s 30ms/step - loss: 0.6993 - accuracy: 0.5139 - val_loss: 0.6843 - val_accuracy: 0.5546\n",
            "Epoch 2/20\n",
            "625/625 [==============================] - 24s 38ms/step - loss: 0.6787 - accuracy: 0.5702 - val_loss: 0.6512 - val_accuracy: 0.6282\n",
            "Epoch 3/20\n",
            "625/625 [==============================] - 18s 29ms/step - loss: 0.6571 - accuracy: 0.6141 - val_loss: 0.6501 - val_accuracy: 0.6292\n",
            "Epoch 4/20\n",
            "625/625 [==============================] - 24s 38ms/step - loss: 0.6377 - accuracy: 0.6417 - val_loss: 0.6610 - val_accuracy: 0.6056\n",
            "Epoch 5/20\n",
            "625/625 [==============================] - 17s 27ms/step - loss: 0.6232 - accuracy: 0.6539 - val_loss: 0.6394 - val_accuracy: 0.6372\n",
            "Epoch 6/20\n",
            "625/625 [==============================] - 15s 23ms/step - loss: 0.6196 - accuracy: 0.6632 - val_loss: 0.6060 - val_accuracy: 0.6790\n",
            "Epoch 7/20\n",
            "625/625 [==============================] - 14s 23ms/step - loss: 0.6014 - accuracy: 0.6791 - val_loss: 0.5798 - val_accuracy: 0.6976\n",
            "Epoch 8/20\n",
            "625/625 [==============================] - 15s 24ms/step - loss: 0.5954 - accuracy: 0.6847 - val_loss: 0.5914 - val_accuracy: 0.6878\n",
            "Epoch 9/20\n",
            "625/625 [==============================] - 14s 23ms/step - loss: 0.5864 - accuracy: 0.6923 - val_loss: 0.5756 - val_accuracy: 0.7022\n",
            "Epoch 10/20\n",
            "625/625 [==============================] - 14s 23ms/step - loss: 0.5863 - accuracy: 0.6902 - val_loss: 0.5819 - val_accuracy: 0.6918\n",
            "Epoch 11/20\n",
            "625/625 [==============================] - 15s 25ms/step - loss: 0.5810 - accuracy: 0.6963 - val_loss: 0.5673 - val_accuracy: 0.7104\n",
            "Epoch 12/20\n",
            "625/625 [==============================] - 15s 24ms/step - loss: 0.5774 - accuracy: 0.6990 - val_loss: 0.5670 - val_accuracy: 0.7054\n",
            "Epoch 13/20\n",
            "625/625 [==============================] - 14s 22ms/step - loss: 0.5779 - accuracy: 0.7012 - val_loss: 0.5689 - val_accuracy: 0.7004\n",
            "Epoch 14/20\n",
            "625/625 [==============================] - 13s 20ms/step - loss: 0.5759 - accuracy: 0.7016 - val_loss: 0.5646 - val_accuracy: 0.7070\n",
            "Epoch 15/20\n",
            "625/625 [==============================] - 13s 21ms/step - loss: 0.5718 - accuracy: 0.7020 - val_loss: 0.5612 - val_accuracy: 0.7128\n",
            "Epoch 16/20\n",
            "625/625 [==============================] - 12s 20ms/step - loss: 0.5698 - accuracy: 0.7028 - val_loss: 0.5811 - val_accuracy: 0.6952\n",
            "Epoch 17/20\n",
            "625/625 [==============================] - 13s 20ms/step - loss: 0.5688 - accuracy: 0.7014 - val_loss: 0.6689 - val_accuracy: 0.5770\n",
            "Epoch 18/20\n",
            "625/625 [==============================] - 13s 20ms/step - loss: 0.5712 - accuracy: 0.7035 - val_loss: 0.5701 - val_accuracy: 0.7146\n",
            "Epoch 19/20\n",
            "625/625 [==============================] - 13s 20ms/step - loss: 0.5638 - accuracy: 0.7092 - val_loss: 0.5627 - val_accuracy: 0.7106\n",
            "Epoch 20/20\n",
            "625/625 [==============================] - 12s 20ms/step - loss: 0.5640 - accuracy: 0.7086 - val_loss: 0.5739 - val_accuracy: 0.7058\n"
          ]
        }
      ]
    },
    {
      "cell_type": "code",
      "source": [
        "plt.plot(history.history['loss'])\n",
        "plt.plot(history.history['val_loss'])\n",
        "plt.show()"
      ],
      "metadata": {
        "id": "nvvvK7B-OPN6",
        "outputId": "faa022ba-685c-48b9-8704-8237450c12b1",
        "colab": {
          "base_uri": "https://localhost:8080/",
          "height": 265
        }
      },
      "execution_count": 48,
      "outputs": [
        {
          "output_type": "display_data",
          "data": {
            "text/plain": [
              "<Figure size 432x288 with 1 Axes>"
            ],
            "image/png": "[encoded data removed]"
          },
          "metadata": {
            "needs_background": "light"
          }
        }
      ]
    },
    {
      "cell_type": "code",
      "source": [
        "plt.plot(history.history['accuracy'])\n",
        "plt.plot(history.history['val_accuracy'])\n",
        "plt.show()"
      ],
      "metadata": {
        "id": "RMR4_DlyOVnz",
        "outputId": "2b492f4c-0c34-4181-9e0c-80ae6649d46c",
        "colab": {
          "base_uri": "https://localhost:8080/",
          "height": 265
        }
      },
      "execution_count": 49,
      "outputs": [
        {
          "output_type": "display_data",
          "data": {
            "text/plain": [
              "<Figure size 432x288 with 1 Axes>"
            ],
            "image/png": "[encoded data removed]"
          },
          "metadata": {
            "needs_background": "light"
          }
        }
      ]
    },
    {
      "cell_type": "code",
      "source": [
        "loss, accuracy = model.evaluate(x_val_onehot, y_val, verbose=0)\n",
        "print(accuracy)"
      ],
      "metadata": {
        "id": "bNjxDxe9OZpZ",
        "outputId": "543b8ad7-a8da-42db-e185-eaed03691d6b",
        "colab": {
          "base_uri": "https://localhost:8080/"
        }
      },
      "execution_count": 50,
      "outputs": [
        {
          "output_type": "stream",
          "name": "stdout",
          "text": [
            "0.7057999968528748\n"
          ]
        }
      ]
    },
    {
      "cell_type": "code",
      "source": [
        "from tensorflow.keras.layers import Embedding"
      ],
      "metadata": {
        "id": "LYRBvzuOPl8M"
      },
      "execution_count": 51,
      "outputs": []
    },
    {
      "cell_type": "code",
      "source": [
        "(x_train_all,y_train_all), (x_test,y_test) = imdb.load_data(skip_top=20, num_words=1000)\n",
        "\n",
        "for i in range(len(x_train_all)):\n",
        "  x_train_all[i] = [w for w in x_train_all[i] if w > 2]\n",
        "\n",
        "x_train = x_train_all[random_index[:20000]]\n",
        "y_train = y_train_all[random_index[:20000]]\n",
        "x_val = x_train_all[random_index[20000:]]\n",
        "y_val = y_train_all[random_index[20000:]]"
      ],
      "metadata": {
        "id": "SFv7paZQPxAZ"
      },
      "execution_count": 53,
      "outputs": []
    },
    {
      "cell_type": "code",
      "source": [
        "maxlen=100\n",
        "x_train_seq = sequence.pad_sequences(x_train, maxlen=maxlen)\n",
        "x_val_seq = sequence.pad_sequences(x_val, maxlen=maxlen)"
      ],
      "metadata": {
        "id": "ku7Gi83_QR8N"
      },
      "execution_count": 55,
      "outputs": []
    },
    {
      "cell_type": "code",
      "source": [
        "model_ebd = Sequential()\n",
        "\n",
        "model_ebd.add(Embedding(1000,32))\n",
        "model_ebd.add(SimpleRNN(8))\n",
        "model_ebd.add(Dense(1, activation='sigmoid'))\n",
        "\n",
        "model_ebd.summary()"
      ],
      "metadata": {
        "id": "nmL2dwshQSYW",
        "outputId": "716c5859-8723-401c-fe07-6dedaec798e4",
        "colab": {
          "base_uri": "https://localhost:8080/"
        }
      },
      "execution_count": 54,
      "outputs": [
        {
          "output_type": "stream",
          "name": "stdout",
          "text": [
            "Model: \"sequential_3\"\n",
            "_________________________________________________________________\n",
            " Layer (type)                Output Shape              Param #   \n",
            "=================================================================\n",
            " embedding (Embedding)       (None, None, 32)          32000     \n",
            "                                                                 \n",
            " simple_rnn_1 (SimpleRNN)    (None, 8)                 328       \n",
            "                                                                 \n",
            " dense_1 (Dense)             (None, 1)                 9         \n",
            "                                                                 \n",
            "=================================================================\n",
            "Total params: 32,337\n",
            "Trainable params: 32,337\n",
            "Non-trainable params: 0\n",
            "_________________________________________________________________\n"
          ]
        }
      ]
    },
    {
      "cell_type": "code",
      "source": [
        "model_ebd.compile(optimizer='adam', loss='binary_crossentropy', metrics=['accuracy'])\n",
        "\n",
        "history = model_ebd.fit(x_train_seq,y_train,epochs=10,batch_size=32,\n",
        "                        validation_data=(x_val_seq, y_val))"
      ],
      "metadata": {
        "id": "H6nhpHNuQoWw",
        "outputId": "5e4d90ca-0bb8-472d-bd5d-8898ed0cbee5",
        "colab": {
          "base_uri": "https://localhost:8080/"
        }
      },
      "execution_count": 56,
      "outputs": [
        {
          "output_type": "stream",
          "name": "stdout",
          "text": [
            "Epoch 1/10\n",
            "625/625 [==============================] - 16s 23ms/step - loss: 0.6239 - accuracy: 0.6246 - val_loss: 0.4966 - val_accuracy: 0.7670\n",
            "Epoch 2/10\n",
            "625/625 [==============================] - 16s 26ms/step - loss: 0.4266 - accuracy: 0.8141 - val_loss: 0.4365 - val_accuracy: 0.8090\n",
            "Epoch 3/10\n",
            "625/625 [==============================] - 15s 24ms/step - loss: 0.3545 - accuracy: 0.8533 - val_loss: 0.4071 - val_accuracy: 0.8176\n",
            "Epoch 4/10\n",
            "625/625 [==============================] - 19s 30ms/step - loss: 0.3106 - accuracy: 0.8770 - val_loss: 0.4188 - val_accuracy: 0.8254\n",
            "Epoch 5/10\n",
            "625/625 [==============================] - 20s 31ms/step - loss: 0.2810 - accuracy: 0.8919 - val_loss: 0.4209 - val_accuracy: 0.8182\n",
            "Epoch 6/10\n",
            "625/625 [==============================] - 17s 27ms/step - loss: 0.2595 - accuracy: 0.8990 - val_loss: 0.4290 - val_accuracy: 0.8266\n",
            "Epoch 7/10\n",
            "625/625 [==============================] - 13s 21ms/step - loss: 0.2454 - accuracy: 0.9062 - val_loss: 0.4835 - val_accuracy: 0.8128\n",
            "Epoch 8/10\n",
            "625/625 [==============================] - 13s 21ms/step - loss: 0.2235 - accuracy: 0.9162 - val_loss: 0.4608 - val_accuracy: 0.8176\n",
            "Epoch 9/10\n",
            "625/625 [==============================] - 13s 21ms/step - loss: 0.2091 - accuracy: 0.9245 - val_loss: 0.4935 - val_accuracy: 0.8204\n",
            "Epoch 10/10\n",
            "625/625 [==============================] - 13s 21ms/step - loss: 0.2105 - accuracy: 0.9210 - val_loss: 0.4866 - val_accuracy: 0.8130\n"
          ]
        }
      ]
    },
    {
      "cell_type": "code",
      "source": [
        "plt.plot(history.history['loss'])\n",
        "plt.plot(history.history['val_loss'])\n",
        "plt.show()"
      ],
      "metadata": {
        "id": "ObFsfKk9RCHo",
        "outputId": "4a42e3c3-954a-437c-e277-4d4f4c9f084f",
        "colab": {
          "base_uri": "https://localhost:8080/",
          "height": 265
        }
      },
      "execution_count": 58,
      "outputs": [
        {
          "output_type": "display_data",
          "data": {
            "text/plain": [
              "<Figure size 432x288 with 1 Axes>"
            ],
            "image/png": "[encoded data removed]"
          },
          "metadata": {
            "needs_background": "light"
          }
        }
      ]
    },
    {
      "cell_type": "code",
      "source": [
        "plt.plot(history.history['accuracy'])\n",
        "plt.plot(history.history['val_accuracy'])\n",
        "plt.show()"
      ],
      "metadata": {
        "id": "B74Ymd9zRFeM",
        "outputId": "60877b73-95b1-4a7f-a4af-10c1b4a7e568",
        "colab": {
          "base_uri": "https://localhost:8080/",
          "height": 265
        }
      },
      "execution_count": 57,
      "outputs": [
        {
          "output_type": "display_data",
          "data": {
            "text/plain": [
              "<Figure size 432x288 with 1 Axes>"
            ],
            "image/png": "[encoded data removed]"
          },
          "metadata": {
            "needs_background": "light"
          }
        }
      ]
    },
    {
      "cell_type": "code",
      "source": [
        "loss, accuracy = model_ebd.evaluate(x_val_seq, y_val, verbose=0)\n",
        "print(accuracy)"
      ],
      "metadata": {
        "id": "wutGcixnRL86",
        "outputId": "f793a7e6-3428-4b20-8940-e116a0be3f27",
        "colab": {
          "base_uri": "https://localhost:8080/"
        }
      },
      "execution_count": 59,
      "outputs": [
        {
          "output_type": "stream",
          "name": "stdout",
          "text": [
            "0.8130000233650208\n"
          ]
        }
      ]
    }
  ]
}